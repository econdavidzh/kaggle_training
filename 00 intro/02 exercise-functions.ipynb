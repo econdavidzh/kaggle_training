{
 "cells": [
  {
   "cell_type": "markdown",
   "id": "5dd7fd79",
   "metadata": {
    "papermill": {
     "duration": 0.007721,
     "end_time": "2022-08-24T01:43:13.083485",
     "exception": false,
     "start_time": "2022-08-24T01:43:13.075764",
     "status": "completed"
    },
    "tags": []
   },
   "source": [
    "**This notebook is an exercise in the [Intro to Programming](https://www.kaggle.com/learn/intro-to-programming) course.  You can reference the tutorial at [this link](https://www.kaggle.com/alexisbcook/functions).**\n",
    "\n",
    "---\n"
   ]
  },
  {
   "cell_type": "markdown",
   "id": "1da3f85a",
   "metadata": {
    "papermill": {
     "duration": 0.005517,
     "end_time": "2022-08-24T01:43:13.095262",
     "exception": false,
     "start_time": "2022-08-24T01:43:13.089745",
     "status": "completed"
    },
    "tags": []
   },
   "source": [
    "In the tutorial, you learned about functions. In this exercise, you'll write some of your own!\n",
    "\n",
    "# Set up the notebook\n",
    "\n",
    "Run the next code cell without changes to set up the notebook."
   ]
  },
  {
   "cell_type": "code",
   "execution_count": 1,
   "id": "0bede59f",
   "metadata": {
    "execution": {
     "iopub.execute_input": "2022-08-24T01:43:13.109198Z",
     "iopub.status.busy": "2022-08-24T01:43:13.108632Z",
     "iopub.status.idle": "2022-08-24T01:43:13.168372Z",
     "shell.execute_reply": "2022-08-24T01:43:13.167300Z"
    },
    "papermill": {
     "duration": 0.070661,
     "end_time": "2022-08-24T01:43:13.171773",
     "exception": false,
     "start_time": "2022-08-24T01:43:13.101112",
     "status": "completed"
    },
    "tags": []
   },
   "outputs": [
    {
     "name": "stdout",
     "output_type": "stream",
     "text": [
      "Setup complete.\n"
     ]
    }
   ],
   "source": [
    "# Set up the exercise\n",
    "import math\n",
    "from learntools.core import binder\n",
    "binder.bind(globals())\n",
    "from learntools.intro_to_programming.ex2 import *\n",
    "print('Setup complete.')"
   ]
  },
  {
   "cell_type": "markdown",
   "id": "87540330",
   "metadata": {
    "papermill": {
     "duration": 0.005811,
     "end_time": "2022-08-24T01:43:13.183924",
     "exception": false,
     "start_time": "2022-08-24T01:43:13.178113",
     "status": "completed"
    },
    "tags": []
   },
   "source": [
    "# Question 1\n",
    "\n",
    "In the [House Prices - Advanced Regression Techniques competition](https://www.kaggle.com/c/house-prices-advanced-regression-techniques/overview), you need to use information like the number of bedrooms and bathrooms to predict the price of a house.  Inspired by this competition, you'll write your own function to do this.\n",
    "\n",
    "In the next code cell, create a function `get_expected_cost()` that has two arguments:\n",
    "- `beds` - number of bedrooms \n",
    "- `baths` - number of bathrooms\n",
    "\n",
    "It should return the expected cost of a house with that number of bedrooms and bathrooms.  Assume that:\n",
    "- the expected cost for a house with 0 bedrooms and 0 bathrooms is `80000`.  \n",
    "- each bedroom adds `30000` to the expected cost\n",
    "- each bathroom adds `10000` to the expected cost.\n",
    "\n",
    "For instance, \n",
    "- a house with 1 bedroom and 1 bathroom has an expected cost of `120000`, and \n",
    "- a house with 2 bedrooms and 1 bathroom has an expected cost of `150000`."
   ]
  },
  {
   "cell_type": "code",
   "execution_count": 2,
   "id": "f5d00e18",
   "metadata": {
    "execution": {
     "iopub.execute_input": "2022-08-24T01:43:13.198081Z",
     "iopub.status.busy": "2022-08-24T01:43:13.197562Z",
     "iopub.status.idle": "2022-08-24T01:43:13.209669Z",
     "shell.execute_reply": "2022-08-24T01:43:13.208526Z"
    },
    "papermill": {
     "duration": 0.022333,
     "end_time": "2022-08-24T01:43:13.212258",
     "exception": false,
     "start_time": "2022-08-24T01:43:13.189925",
     "status": "completed"
    },
    "tags": []
   },
   "outputs": [
    {
     "data": {
      "application/javascript": [
       "parent.postMessage({\"jupyterEvent\": \"custom.exercise_interaction\", \"data\": {\"outcomeType\": 1, \"valueTowardsCompletion\": 0.2, \"interactionType\": 1, \"questionType\": 2, \"questionId\": \"1_GetExpectedCost\", \"learnToolsVersion\": \"0.3.4\", \"failureMessage\": \"\", \"exceptionClass\": \"\", \"trace\": \"\"}}, \"*\")"
      ],
      "text/plain": [
       "<IPython.core.display.Javascript object>"
      ]
     },
     "metadata": {},
     "output_type": "display_data"
    },
    {
     "data": {
      "text/markdown": [
       "<span style=\"color:#33cc33\">Correct</span>"
      ],
      "text/plain": [
       "Correct"
      ]
     },
     "metadata": {},
     "output_type": "display_data"
    }
   ],
   "source": [
    "# TODO: Complete the function\n",
    "def get_expected_cost(beds, baths):\n",
    "    value = 80000 + beds * 30000 + baths * 10000\n",
    "    return value\n",
    "\n",
    "# Check your answer \n",
    "q1.check()"
   ]
  },
  {
   "cell_type": "code",
   "execution_count": 3,
   "id": "0b1da02d",
   "metadata": {
    "execution": {
     "iopub.execute_input": "2022-08-24T01:43:13.227398Z",
     "iopub.status.busy": "2022-08-24T01:43:13.226858Z",
     "iopub.status.idle": "2022-08-24T01:43:13.232179Z",
     "shell.execute_reply": "2022-08-24T01:43:13.230920Z"
    },
    "papermill": {
     "duration": 0.015737,
     "end_time": "2022-08-24T01:43:13.234536",
     "exception": false,
     "start_time": "2022-08-24T01:43:13.218799",
     "status": "completed"
    },
    "tags": []
   },
   "outputs": [],
   "source": [
    "# Uncomment to see a hint\n",
    "#q1.hint()\n",
    "\n",
    "# Uncomment to view the solution\n",
    "#q1.solution()"
   ]
  },
  {
   "cell_type": "markdown",
   "id": "c3987129",
   "metadata": {
    "papermill": {
     "duration": 0.005898,
     "end_time": "2022-08-24T01:43:13.246902",
     "exception": false,
     "start_time": "2022-08-24T01:43:13.241004",
     "status": "completed"
    },
    "tags": []
   },
   "source": [
    "# Question 2\n",
    "\n",
    "You are thinking about buying a home and want to get an idea of how much you will spend, based on the number of bedrooms and bathrooms.  You are trying to decide between four different options:\n",
    "- Option 1: house with two bedrooms and three bathrooms\n",
    "- Option 2: house with three bedrooms and two bathrooms\n",
    "- Option 3: house with three bedrooms and three bathrooms\n",
    "- Option 4: house with three bedrooms and four bathrooms\n",
    "\n",
    "Use the `get_expected_cost()` function you defined in question 1 to set `option_1`, `option_2`, `option_3`, and `option_4` to the expected cost of each option."
   ]
  },
  {
   "cell_type": "code",
   "execution_count": 4,
   "id": "2cfb412a",
   "metadata": {
    "execution": {
     "iopub.execute_input": "2022-08-24T01:43:13.261606Z",
     "iopub.status.busy": "2022-08-24T01:43:13.260795Z",
     "iopub.status.idle": "2022-08-24T01:43:13.272957Z",
     "shell.execute_reply": "2022-08-24T01:43:13.271970Z"
    },
    "papermill": {
     "duration": 0.022111,
     "end_time": "2022-08-24T01:43:13.275141",
     "exception": false,
     "start_time": "2022-08-24T01:43:13.253030",
     "status": "completed"
    },
    "tags": []
   },
   "outputs": [
    {
     "name": "stdout",
     "output_type": "stream",
     "text": [
      "170000\n",
      "190000\n",
      "200000\n",
      "210000\n"
     ]
    },
    {
     "data": {
      "application/javascript": [
       "parent.postMessage({\"jupyterEvent\": \"custom.exercise_interaction\", \"data\": {\"outcomeType\": 1, \"valueTowardsCompletion\": 0.2, \"interactionType\": 1, \"questionType\": 1, \"questionId\": \"2_RunGetExpectedCost\", \"learnToolsVersion\": \"0.3.4\", \"failureMessage\": \"\", \"exceptionClass\": \"\", \"trace\": \"\"}}, \"*\")"
      ],
      "text/plain": [
       "<IPython.core.display.Javascript object>"
      ]
     },
     "metadata": {},
     "output_type": "display_data"
    },
    {
     "data": {
      "text/markdown": [
       "<span style=\"color:#33cc33\">Correct</span>"
      ],
      "text/plain": [
       "Correct"
      ]
     },
     "metadata": {},
     "output_type": "display_data"
    }
   ],
   "source": [
    "# TODO: Use the get_expected_cost function to fill in each value\n",
    "option_one = get_expected_cost(2, 3)\n",
    "option_two = get_expected_cost(3, 2)\n",
    "option_three = get_expected_cost(3, 3)\n",
    "option_four = get_expected_cost(3, 4)\n",
    "\n",
    "print(option_one)\n",
    "print(option_two)\n",
    "print(option_three)\n",
    "print(option_four)\n",
    "\n",
    "# Check your answer\n",
    "q2.check()"
   ]
  },
  {
   "cell_type": "code",
   "execution_count": 5,
   "id": "cfbfddfd",
   "metadata": {
    "execution": {
     "iopub.execute_input": "2022-08-24T01:43:13.290111Z",
     "iopub.status.busy": "2022-08-24T01:43:13.289640Z",
     "iopub.status.idle": "2022-08-24T01:43:13.294102Z",
     "shell.execute_reply": "2022-08-24T01:43:13.292972Z"
    },
    "papermill": {
     "duration": 0.014824,
     "end_time": "2022-08-24T01:43:13.296427",
     "exception": false,
     "start_time": "2022-08-24T01:43:13.281603",
     "status": "completed"
    },
    "tags": []
   },
   "outputs": [],
   "source": [
    "# Uncomment to see a hint\n",
    "#q2.hint()\n",
    "\n",
    "# Uncomment to view the solution\n",
    "#q2.solution()"
   ]
  },
  {
   "cell_type": "markdown",
   "id": "09468767",
   "metadata": {
    "papermill": {
     "duration": 0.006398,
     "end_time": "2022-08-24T01:43:13.309695",
     "exception": false,
     "start_time": "2022-08-24T01:43:13.303297",
     "status": "completed"
    },
    "tags": []
   },
   "source": [
    "# Question 3\n",
    "\n",
    "You're a home decorator, and you'd like to use Python to streamline some of your work.  Specifically, you're creating a tool that you intend to use to calculate the cost of painting a room.\n",
    "\n",
    "As a first step, define a function `get_cost()` that takes as input:\n",
    "- `sqft_walls` = total square feet of walls to be painted\n",
    "- `sqft_ceiling` = square feet of ceiling to be painted\n",
    "- `sqft_per_gallon` = number of square feet that you can cover with one gallon of paint\n",
    "- `cost_per_gallon` = cost (in dollars) of one gallon of paint\n",
    "\n",
    "It should return the cost (in dollars) of putting one coat of paint on all walls and the ceiling.  Assume you can buy the exact amount of paint that you need, so you can buy partial gallons (e.g., if you need 7.523 gallons, you can buy that exact amount, instead of needing to buy 8 gallons and waste some paint).  Do not round your answer."
   ]
  },
  {
   "cell_type": "code",
   "execution_count": 6,
   "id": "ad79c717",
   "metadata": {
    "execution": {
     "iopub.execute_input": "2022-08-24T01:43:13.326021Z",
     "iopub.status.busy": "2022-08-24T01:43:13.324726Z",
     "iopub.status.idle": "2022-08-24T01:43:13.334574Z",
     "shell.execute_reply": "2022-08-24T01:43:13.333660Z"
    },
    "papermill": {
     "duration": 0.020226,
     "end_time": "2022-08-24T01:43:13.336716",
     "exception": false,
     "start_time": "2022-08-24T01:43:13.316490",
     "status": "completed"
    },
    "tags": []
   },
   "outputs": [
    {
     "data": {
      "application/javascript": [
       "parent.postMessage({\"jupyterEvent\": \"custom.exercise_interaction\", \"data\": {\"outcomeType\": 1, \"valueTowardsCompletion\": 0.2, \"interactionType\": 1, \"questionType\": 2, \"questionId\": \"3_GetCostPaint\", \"learnToolsVersion\": \"0.3.4\", \"failureMessage\": \"\", \"exceptionClass\": \"\", \"trace\": \"\"}}, \"*\")"
      ],
      "text/plain": [
       "<IPython.core.display.Javascript object>"
      ]
     },
     "metadata": {},
     "output_type": "display_data"
    },
    {
     "data": {
      "text/markdown": [
       "<span style=\"color:#33cc33\">Correct</span>"
      ],
      "text/plain": [
       "Correct"
      ]
     },
     "metadata": {},
     "output_type": "display_data"
    }
   ],
   "source": [
    "# TODO: Finish defining the function\n",
    "def get_cost(sqft_walls, sqft_ceiling, sqft_per_gallon, cost_per_gallon):\n",
    "    cost = ((sqft_walls + sqft_ceiling) / sqft_per_gallon) * cost_per_gallon\n",
    "    return cost\n",
    "\n",
    "# Check your answer\n",
    "q3.check()"
   ]
  },
  {
   "cell_type": "code",
   "execution_count": 7,
   "id": "e1944c7b",
   "metadata": {
    "execution": {
     "iopub.execute_input": "2022-08-24T01:43:13.352798Z",
     "iopub.status.busy": "2022-08-24T01:43:13.352124Z",
     "iopub.status.idle": "2022-08-24T01:43:13.357519Z",
     "shell.execute_reply": "2022-08-24T01:43:13.356348Z"
    },
    "papermill": {
     "duration": 0.016517,
     "end_time": "2022-08-24T01:43:13.360196",
     "exception": false,
     "start_time": "2022-08-24T01:43:13.343679",
     "status": "completed"
    },
    "tags": []
   },
   "outputs": [],
   "source": [
    "# Uncomment to see a hint\n",
    "#q3.hint()\n",
    "\n",
    "# Uncomment to view the solution\n",
    "#q3.solution()"
   ]
  },
  {
   "cell_type": "markdown",
   "id": "5097b5d5",
   "metadata": {
    "papermill": {
     "duration": 0.007434,
     "end_time": "2022-08-24T01:43:13.374607",
     "exception": false,
     "start_time": "2022-08-24T01:43:13.367173",
     "status": "completed"
    },
    "tags": []
   },
   "source": [
    "# Question 4\n",
    "\n",
    "Use the `get_cost()` function you defined in Question 3 to calculate the cost of applying one coat of paint to a room with:\n",
    "- 432 square feet of walls, and\n",
    "- 144 square feet of ceiling.\n",
    "\n",
    "Assume that one gallon of paint covers 400 square feet and costs $15.  As in Question 3, assume you can buy partial gallons of paint.  Do not round your answer."
   ]
  },
  {
   "cell_type": "code",
   "execution_count": 8,
   "id": "aa8efad2",
   "metadata": {
    "execution": {
     "iopub.execute_input": "2022-08-24T01:43:13.390363Z",
     "iopub.status.busy": "2022-08-24T01:43:13.389447Z",
     "iopub.status.idle": "2022-08-24T01:43:13.399517Z",
     "shell.execute_reply": "2022-08-24T01:43:13.398323Z"
    },
    "papermill": {
     "duration": 0.020445,
     "end_time": "2022-08-24T01:43:13.401788",
     "exception": false,
     "start_time": "2022-08-24T01:43:13.381343",
     "status": "completed"
    },
    "tags": []
   },
   "outputs": [
    {
     "data": {
      "application/javascript": [
       "parent.postMessage({\"jupyterEvent\": \"custom.exercise_interaction\", \"data\": {\"outcomeType\": 1, \"valueTowardsCompletion\": 0.2, \"interactionType\": 1, \"questionType\": 1, \"questionId\": \"4_GetCostPaintExample\", \"learnToolsVersion\": \"0.3.4\", \"failureMessage\": \"\", \"exceptionClass\": \"\", \"trace\": \"\"}}, \"*\")"
      ],
      "text/plain": [
       "<IPython.core.display.Javascript object>"
      ]
     },
     "metadata": {},
     "output_type": "display_data"
    },
    {
     "data": {
      "text/markdown": [
       "<span style=\"color:#33cc33\">Correct</span>"
      ],
      "text/plain": [
       "Correct"
      ]
     },
     "metadata": {},
     "output_type": "display_data"
    }
   ],
   "source": [
    "# TODO: Set the project_cost variable to the cost of the project\n",
    "project_cost = get_cost(432, 144, 400, 15)\n",
    "\n",
    "# Check your answer\n",
    "q4.check()"
   ]
  },
  {
   "cell_type": "code",
   "execution_count": 9,
   "id": "a246acd7",
   "metadata": {
    "execution": {
     "iopub.execute_input": "2022-08-24T01:43:13.418772Z",
     "iopub.status.busy": "2022-08-24T01:43:13.417582Z",
     "iopub.status.idle": "2022-08-24T01:43:13.423365Z",
     "shell.execute_reply": "2022-08-24T01:43:13.421857Z"
    },
    "papermill": {
     "duration": 0.017027,
     "end_time": "2022-08-24T01:43:13.425856",
     "exception": false,
     "start_time": "2022-08-24T01:43:13.408829",
     "status": "completed"
    },
    "tags": []
   },
   "outputs": [],
   "source": [
    "# Uncomment to see a hint\n",
    "#q4.hint()\n",
    "\n",
    "# Uncomment to view the solution\n",
    "#q4.solution()"
   ]
  },
  {
   "cell_type": "markdown",
   "id": "eaa0d3fb",
   "metadata": {
    "papermill": {
     "duration": 0.007179,
     "end_time": "2022-08-24T01:43:13.440526",
     "exception": false,
     "start_time": "2022-08-24T01:43:13.433347",
     "status": "completed"
    },
    "tags": []
   },
   "source": [
    "# 🌶️ Question 5\n",
    "\n",
    "Now say you can no longer buy fractions of a gallon.  (For instance, if you need 4.3 gallons to do a project, then you have to buy 5 gallons of paint.)\n",
    "\n",
    "With this new scenario, you will create a new function `get_actual_cost` that uses the same inputs and calculates the cost of your project.\n",
    "\n",
    "One function that you'll need to use to do this is `math.ceil()`.  We demonstrate usage of this function in the code cell below.  It takes as a number as input and rounds the number up to the nearest integer.  \n",
    "\n",
    "Run the next code cell to test this function for yourself.  Feel free to change the value of `test_value` and make sure `math.ceil()` returns the number you expect."
   ]
  },
  {
   "cell_type": "code",
   "execution_count": 10,
   "id": "d4d221ab",
   "metadata": {
    "execution": {
     "iopub.execute_input": "2022-08-24T01:43:13.458752Z",
     "iopub.status.busy": "2022-08-24T01:43:13.457810Z",
     "iopub.status.idle": "2022-08-24T01:43:13.464589Z",
     "shell.execute_reply": "2022-08-24T01:43:13.463649Z"
    },
    "papermill": {
     "duration": 0.02003,
     "end_time": "2022-08-24T01:43:13.468466",
     "exception": false,
     "start_time": "2022-08-24T01:43:13.448436",
     "status": "completed"
    },
    "tags": []
   },
   "outputs": [
    {
     "name": "stdout",
     "output_type": "stream",
     "text": [
      "3\n"
     ]
    }
   ],
   "source": [
    "test_value = 2.17\n",
    "\n",
    "rounded_value = math.ceil(test_value)\n",
    "print(rounded_value)"
   ]
  },
  {
   "cell_type": "markdown",
   "id": "f132c890",
   "metadata": {
    "papermill": {
     "duration": 0.007099,
     "end_time": "2022-08-24T01:43:13.484285",
     "exception": false,
     "start_time": "2022-08-24T01:43:13.477186",
     "status": "completed"
    },
    "tags": []
   },
   "source": [
    "Use the next code cell to define the function `get_actual_cost()`.  You'll need to use the `math.ceil()` function to do this.\n",
    "\n",
    "When answering this question, note that it's completely valid to define a function that makes use of another function.  For instance, we can define a function `round_up_and_divide_by_three` that makes use of the `math.ceil` function:\n",
    "```\n",
    "def round_up_and_divide_by_three(num):\n",
    "    new_value = math.ceil(num)\n",
    "    final_value = new_value / 3\n",
    "    return final_value\n",
    "```"
   ]
  },
  {
   "cell_type": "code",
   "execution_count": 11,
   "id": "d62cb36b",
   "metadata": {
    "execution": {
     "iopub.execute_input": "2022-08-24T01:43:13.503308Z",
     "iopub.status.busy": "2022-08-24T01:43:13.502640Z",
     "iopub.status.idle": "2022-08-24T01:43:13.513842Z",
     "shell.execute_reply": "2022-08-24T01:43:13.513039Z"
    },
    "papermill": {
     "duration": 0.024604,
     "end_time": "2022-08-24T01:43:13.516148",
     "exception": false,
     "start_time": "2022-08-24T01:43:13.491544",
     "status": "completed"
    },
    "tags": []
   },
   "outputs": [
    {
     "data": {
      "application/javascript": [
       "parent.postMessage({\"jupyterEvent\": \"custom.exercise_interaction\", \"data\": {\"outcomeType\": 1, \"valueTowardsCompletion\": 0.2, \"interactionType\": 1, \"questionType\": 2, \"questionId\": \"5_NoMoreFractions\", \"learnToolsVersion\": \"0.3.4\", \"failureMessage\": \"\", \"exceptionClass\": \"\", \"trace\": \"\"}}, \"*\")"
      ],
      "text/plain": [
       "<IPython.core.display.Javascript object>"
      ]
     },
     "metadata": {},
     "output_type": "display_data"
    },
    {
     "data": {
      "text/markdown": [
       "<span style=\"color:#33cc33\">Correct</span>"
      ],
      "text/plain": [
       "Correct"
      ]
     },
     "metadata": {},
     "output_type": "display_data"
    }
   ],
   "source": [
    "def get_actual_cost(sqft_walls, sqft_ceiling, sqft_per_gallon, cost_per_gallon):\n",
    "    cost = math.ceil((sqft_walls + sqft_ceiling) / sqft_per_gallon) * cost_per_gallon\n",
    "    return cost\n",
    "\n",
    "# Check your answer\n",
    "q5.check()"
   ]
  },
  {
   "cell_type": "code",
   "execution_count": 12,
   "id": "1ac24836",
   "metadata": {
    "execution": {
     "iopub.execute_input": "2022-08-24T01:43:13.533895Z",
     "iopub.status.busy": "2022-08-24T01:43:13.532972Z",
     "iopub.status.idle": "2022-08-24T01:43:13.537369Z",
     "shell.execute_reply": "2022-08-24T01:43:13.536418Z"
    },
    "papermill": {
     "duration": 0.015866,
     "end_time": "2022-08-24T01:43:13.539524",
     "exception": false,
     "start_time": "2022-08-24T01:43:13.523658",
     "status": "completed"
    },
    "tags": []
   },
   "outputs": [],
   "source": [
    "# Uncomment to see a hint\n",
    "#q5.hint()\n",
    "\n",
    "# Uncomment to view the solution\n",
    "#q5.solution()"
   ]
  },
  {
   "cell_type": "markdown",
   "id": "bf64feda",
   "metadata": {
    "papermill": {
     "duration": 0.00734,
     "end_time": "2022-08-24T01:43:13.554859",
     "exception": false,
     "start_time": "2022-08-24T01:43:13.547519",
     "status": "completed"
    },
    "tags": []
   },
   "source": [
    "Once your function is verified as correct, run the next code cell to calculate the updated cost of your project."
   ]
  },
  {
   "cell_type": "code",
   "execution_count": 13,
   "id": "79f8a88e",
   "metadata": {
    "execution": {
     "iopub.execute_input": "2022-08-24T01:43:13.572198Z",
     "iopub.status.busy": "2022-08-24T01:43:13.571387Z",
     "iopub.status.idle": "2022-08-24T01:43:13.578225Z",
     "shell.execute_reply": "2022-08-24T01:43:13.577358Z"
    },
    "papermill": {
     "duration": 0.017865,
     "end_time": "2022-08-24T01:43:13.580292",
     "exception": false,
     "start_time": "2022-08-24T01:43:13.562427",
     "status": "completed"
    },
    "tags": []
   },
   "outputs": [
    {
     "data": {
      "text/plain": [
       "30"
      ]
     },
     "execution_count": 13,
     "metadata": {},
     "output_type": "execute_result"
    }
   ],
   "source": [
    "get_actual_cost(432, 144, 400, 15) "
   ]
  },
  {
   "cell_type": "markdown",
   "id": "ab2d8040",
   "metadata": {
    "papermill": {
     "duration": 0.007264,
     "end_time": "2022-08-24T01:43:13.595149",
     "exception": false,
     "start_time": "2022-08-24T01:43:13.587885",
     "status": "completed"
    },
    "tags": []
   },
   "source": [
    "Say you're working with a slightly larger room.  Run the next code cell to calculate the cost of the project."
   ]
  },
  {
   "cell_type": "code",
   "execution_count": 14,
   "id": "e7574d8f",
   "metadata": {
    "execution": {
     "iopub.execute_input": "2022-08-24T01:43:13.611740Z",
     "iopub.status.busy": "2022-08-24T01:43:13.611251Z",
     "iopub.status.idle": "2022-08-24T01:43:13.619078Z",
     "shell.execute_reply": "2022-08-24T01:43:13.617941Z"
    },
    "papermill": {
     "duration": 0.018757,
     "end_time": "2022-08-24T01:43:13.621215",
     "exception": false,
     "start_time": "2022-08-24T01:43:13.602458",
     "status": "completed"
    },
    "tags": []
   },
   "outputs": [
    {
     "data": {
      "text/plain": [
       "45"
      ]
     },
     "execution_count": 14,
     "metadata": {},
     "output_type": "execute_result"
    }
   ],
   "source": [
    "get_actual_cost(594, 288, 400, 15) "
   ]
  },
  {
   "cell_type": "markdown",
   "id": "8efd2c13",
   "metadata": {
    "papermill": {
     "duration": 0.00757,
     "end_time": "2022-08-24T01:43:13.636706",
     "exception": false,
     "start_time": "2022-08-24T01:43:13.629136",
     "status": "completed"
    },
    "tags": []
   },
   "source": [
    "# Keep going\n",
    "\n",
    "Continue to learn about **[data types](https://www.kaggle.com/alexisbcook/data-types)**."
   ]
  },
  {
   "cell_type": "markdown",
   "id": "2d111a44",
   "metadata": {
    "papermill": {
     "duration": 0.007252,
     "end_time": "2022-08-24T01:43:13.651681",
     "exception": false,
     "start_time": "2022-08-24T01:43:13.644429",
     "status": "completed"
    },
    "tags": []
   },
   "source": [
    "---\n",
    "\n",
    "\n",
    "\n",
    "\n",
    "*Have questions or comments? Visit the [course discussion forum](https://www.kaggle.com/learn/intro-to-programming/discussion) to chat with other learners.*"
   ]
  }
 ],
 "metadata": {
  "kernelspec": {
   "display_name": "Python 3",
   "language": "python",
   "name": "python3"
  },
  "language_info": {
   "codemirror_mode": {
    "name": "ipython",
    "version": 3
   },
   "file_extension": ".py",
   "mimetype": "text/x-python",
   "name": "python",
   "nbconvert_exporter": "python",
   "pygments_lexer": "ipython3",
   "version": "3.7.12"
  },
  "papermill": {
   "default_parameters": {},
   "duration": 10.891729,
   "end_time": "2022-08-24T01:43:14.585235",
   "environment_variables": {},
   "exception": null,
   "input_path": "__notebook__.ipynb",
   "output_path": "__notebook__.ipynb",
   "parameters": {},
   "start_time": "2022-08-24T01:43:03.693506",
   "version": "2.3.4"
  }
 },
 "nbformat": 4,
 "nbformat_minor": 5
}
