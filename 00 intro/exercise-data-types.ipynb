{
 "cells": [
  {
   "cell_type": "markdown",
   "id": "8e67d107",
   "metadata": {
    "papermill": {
     "duration": 0.008599,
     "end_time": "2022-08-24T01:52:47.656659",
     "exception": false,
     "start_time": "2022-08-24T01:52:47.648060",
     "status": "completed"
    },
    "tags": []
   },
   "source": [
    "**This notebook is an exercise in the [Intro to Programming](https://www.kaggle.com/learn/intro-to-programming) course.  You can reference the tutorial at [this link](https://www.kaggle.com/alexisbcook/data-types).**\n",
    "\n",
    "---\n"
   ]
  },
  {
   "cell_type": "markdown",
   "id": "0e5e6e9b",
   "metadata": {
    "papermill": {
     "duration": 0.009374,
     "end_time": "2022-08-24T01:52:47.674906",
     "exception": false,
     "start_time": "2022-08-24T01:52:47.665532",
     "status": "completed"
    },
    "tags": []
   },
   "source": [
    "In the tutorial, you learned about four different data types: floats, integers, strings, and booleans.  In this exercise, you'll experiment with them.\n",
    "\n",
    "# Set up the notebook\n",
    "\n",
    "Run the next code cell without changes to set up the notebook."
   ]
  },
  {
   "cell_type": "code",
   "execution_count": 1,
   "id": "5859e063",
   "metadata": {
    "execution": {
     "iopub.execute_input": "2022-08-24T01:52:47.690451Z",
     "iopub.status.busy": "2022-08-24T01:52:47.689311Z",
     "iopub.status.idle": "2022-08-24T01:52:47.740111Z",
     "shell.execute_reply": "2022-08-24T01:52:47.739262Z"
    },
    "papermill": {
     "duration": 0.061062,
     "end_time": "2022-08-24T01:52:47.742611",
     "exception": false,
     "start_time": "2022-08-24T01:52:47.681549",
     "status": "completed"
    },
    "tags": []
   },
   "outputs": [
    {
     "name": "stdout",
     "output_type": "stream",
     "text": [
      "Setup complete.\n"
     ]
    }
   ],
   "source": [
    "# Set up the exercise\n",
    "from learntools.core import binder\n",
    "binder.bind(globals())\n",
    "from learntools.intro_to_programming.ex3 import *\n",
    "print('Setup complete.')"
   ]
  },
  {
   "cell_type": "markdown",
   "id": "84f6cd38",
   "metadata": {
    "papermill": {
     "duration": 0.006052,
     "end_time": "2022-08-24T01:52:47.755208",
     "exception": false,
     "start_time": "2022-08-24T01:52:47.749156",
     "status": "completed"
    },
    "tags": []
   },
   "source": [
    "# Question 1\n",
    "\n",
    "You have seen how to convert a float to an integer with the `int` function.  Try this out yourself by running the code cell below."
   ]
  },
  {
   "cell_type": "code",
   "execution_count": 2,
   "id": "fd82ba70",
   "metadata": {
    "execution": {
     "iopub.execute_input": "2022-08-24T01:52:47.769506Z",
     "iopub.status.busy": "2022-08-24T01:52:47.769110Z",
     "iopub.status.idle": "2022-08-24T01:52:47.775149Z",
     "shell.execute_reply": "2022-08-24T01:52:47.773892Z"
    },
    "papermill": {
     "duration": 0.015945,
     "end_time": "2022-08-24T01:52:47.777383",
     "exception": false,
     "start_time": "2022-08-24T01:52:47.761438",
     "status": "completed"
    },
    "tags": []
   },
   "outputs": [
    {
     "name": "stdout",
     "output_type": "stream",
     "text": [
      "1.0\n",
      "<class 'float'>\n",
      "1\n",
      "<class 'int'>\n"
     ]
    }
   ],
   "source": [
    "# Define a float\n",
    "y = 1.\n",
    "print(y)\n",
    "print(type(y))\n",
    "\n",
    "# Convert float to integer with the int function\n",
    "z = int(y)\n",
    "print(z)\n",
    "print(type(z))"
   ]
  },
  {
   "cell_type": "markdown",
   "id": "ced6b4a0",
   "metadata": {
    "papermill": {
     "duration": 0.006089,
     "end_time": "2022-08-24T01:52:47.789866",
     "exception": false,
     "start_time": "2022-08-24T01:52:47.783777",
     "status": "completed"
    },
    "tags": []
   },
   "source": [
    "In this case, the float you are using has no numbers after the decimal.  \n",
    "- But what happens when you try to convert a float with a fractional part to an integer?  \n",
    "- How does the outcome of the `int` function change for positive and negative numbers?\n",
    "\n",
    "Use the next code cell to investigate and answer these questions.  Feel free to add or remove any lines of code -- it is your workspace!"
   ]
  },
  {
   "cell_type": "code",
   "execution_count": 3,
   "id": "d42e7817",
   "metadata": {
    "execution": {
     "iopub.execute_input": "2022-08-24T01:52:47.804489Z",
     "iopub.status.busy": "2022-08-24T01:52:47.804095Z",
     "iopub.status.idle": "2022-08-24T01:52:47.809918Z",
     "shell.execute_reply": "2022-08-24T01:52:47.809110Z"
    },
    "papermill": {
     "duration": 0.015795,
     "end_time": "2022-08-24T01:52:47.812101",
     "exception": false,
     "start_time": "2022-08-24T01:52:47.796306",
     "status": "completed"
    },
    "tags": []
   },
   "outputs": [
    {
     "name": "stdout",
     "output_type": "stream",
     "text": [
      "1\n",
      "1\n",
      "-3\n",
      "-2\n"
     ]
    }
   ],
   "source": [
    "# Uncomment and run this code to get started!\n",
    "print(int(1.2321))\n",
    "print(int(1.747))\n",
    "print(int(-3.94535))\n",
    "print(int(-2.19774))"
   ]
  },
  {
   "cell_type": "markdown",
   "id": "5f494dbb",
   "metadata": {
    "papermill": {
     "duration": 0.006118,
     "end_time": "2022-08-24T01:52:47.824737",
     "exception": false,
     "start_time": "2022-08-24T01:52:47.818619",
     "status": "completed"
    },
    "tags": []
   },
   "source": [
    "Once you have an answer, run the code cell below to see the solution.  Viewing the solution will give you credit for answering the problem."
   ]
  },
  {
   "cell_type": "code",
   "execution_count": 4,
   "id": "22c89a73",
   "metadata": {
    "execution": {
     "iopub.execute_input": "2022-08-24T01:52:47.839426Z",
     "iopub.status.busy": "2022-08-24T01:52:47.839024Z",
     "iopub.status.idle": "2022-08-24T01:52:47.849659Z",
     "shell.execute_reply": "2022-08-24T01:52:47.848571Z"
    },
    "papermill": {
     "duration": 0.020857,
     "end_time": "2022-08-24T01:52:47.851847",
     "exception": false,
     "start_time": "2022-08-24T01:52:47.830990",
     "status": "completed"
    },
    "tags": []
   },
   "outputs": [
    {
     "data": {
      "application/javascript": [
       "parent.postMessage({\"jupyterEvent\": \"custom.exercise_interaction\", \"data\": {\"outcomeType\": 1, \"valueTowardsCompletion\": 0.2, \"interactionType\": 1, \"questionType\": 4, \"questionId\": \"1_FloatToInt\", \"learnToolsVersion\": \"0.3.4\", \"failureMessage\": \"\", \"exceptionClass\": \"\", \"trace\": \"\"}}, \"*\")"
      ],
      "text/plain": [
       "<IPython.core.display.Javascript object>"
      ]
     },
     "metadata": {},
     "output_type": "display_data"
    },
    {
     "data": {
      "text/markdown": [
       "<span style=\"color:#33cc33\">Correct:</span> \n",
       "\n",
       "Negative floats are always rounded UP to the closest integer (for instance, both -1.1 and -1.9 are rounded up to -1). Positive floats are always rounded DOWN to the closest integer (for instance, 2.1 and 2.9 are rounded down to 2)."
      ],
      "text/plain": [
       "Correct: \n",
       "\n",
       "Negative floats are always rounded UP to the closest integer (for instance, both -1.1 and -1.9 are rounded up to -1). Positive floats are always rounded DOWN to the closest integer (for instance, 2.1 and 2.9 are rounded down to 2)."
      ]
     },
     "metadata": {},
     "output_type": "display_data"
    }
   ],
   "source": [
    "# Check your answer (Run this code cell to receive credit!)\n",
    "q1.check()"
   ]
  },
  {
   "cell_type": "markdown",
   "id": "d5598e05",
   "metadata": {
    "papermill": {
     "duration": 0.0065,
     "end_time": "2022-08-24T01:52:47.865406",
     "exception": false,
     "start_time": "2022-08-24T01:52:47.858906",
     "status": "completed"
    },
    "tags": []
   },
   "source": [
    "# Question 2\n",
    "\n",
    "In the tutorial, you learned about booleans (which can take a value of `True` or `False`), in addition to integers, floats, and strings.  For this question, your goal is to determine what happens when you multiply a boolean by any of these data types.  Specifically, \n",
    "- What happens when you multiply an integer or float by `True`?  What happens when you multiply them by `False`?  How does the answer change if the numbers are positive or negative?\n",
    "- What happens when you multiply a string by `True`?  By `False`?\n",
    "\n",
    "Use the next code cell for your investigation. "
   ]
  },
  {
   "cell_type": "code",
   "execution_count": 5,
   "id": "f4f18887",
   "metadata": {
    "execution": {
     "iopub.execute_input": "2022-08-24T01:52:47.880858Z",
     "iopub.status.busy": "2022-08-24T01:52:47.880427Z",
     "iopub.status.idle": "2022-08-24T01:52:47.886510Z",
     "shell.execute_reply": "2022-08-24T01:52:47.885301Z"
    },
    "papermill": {
     "duration": 0.016775,
     "end_time": "2022-08-24T01:52:47.889035",
     "exception": false,
     "start_time": "2022-08-24T01:52:47.872260",
     "status": "completed"
    },
    "tags": []
   },
   "outputs": [
    {
     "name": "stdout",
     "output_type": "stream",
     "text": [
      "3\n",
      "-3.1\n",
      "<class 'str'>\n",
      "0\n"
     ]
    }
   ],
   "source": [
    "# Uncomment and run this code to get started!\n",
    "print(3 * True)\n",
    "print(-3.1 * True)\n",
    "print(type(\"abc\" * False))\n",
    "print(len(\"abc\" * False))"
   ]
  },
  {
   "cell_type": "markdown",
   "id": "64869101",
   "metadata": {
    "papermill": {
     "duration": 0.006412,
     "end_time": "2022-08-24T01:52:47.902228",
     "exception": false,
     "start_time": "2022-08-24T01:52:47.895816",
     "status": "completed"
    },
    "tags": []
   },
   "source": [
    "Once you have an answer, run the code cell below to see the solution.  Viewing the solution will give you credit for answering the problem."
   ]
  },
  {
   "cell_type": "code",
   "execution_count": 6,
   "id": "ea9de20f",
   "metadata": {
    "execution": {
     "iopub.execute_input": "2022-08-24T01:52:47.917282Z",
     "iopub.status.busy": "2022-08-24T01:52:47.916813Z",
     "iopub.status.idle": "2022-08-24T01:52:47.925324Z",
     "shell.execute_reply": "2022-08-24T01:52:47.924378Z"
    },
    "papermill": {
     "duration": 0.018773,
     "end_time": "2022-08-24T01:52:47.927603",
     "exception": false,
     "start_time": "2022-08-24T01:52:47.908830",
     "status": "completed"
    },
    "tags": []
   },
   "outputs": [
    {
     "data": {
      "application/javascript": [
       "parent.postMessage({\"jupyterEvent\": \"custom.exercise_interaction\", \"data\": {\"outcomeType\": 1, \"valueTowardsCompletion\": 0.2, \"interactionType\": 1, \"questionType\": 4, \"questionId\": \"2_MultiplyBooleans\", \"learnToolsVersion\": \"0.3.4\", \"failureMessage\": \"\", \"exceptionClass\": \"\", \"trace\": \"\"}}, \"*\")"
      ],
      "text/plain": [
       "<IPython.core.display.Javascript object>"
      ]
     },
     "metadata": {},
     "output_type": "display_data"
    },
    {
     "data": {
      "text/markdown": [
       "<span style=\"color:#33cc33\">Correct:</span> \n",
       "\n",
       "When you multiple an integer or float by a boolean with value `True`, it just returns that same integer or float (and is equivalent to multiplying by 1).  If you multiply an integer or float by a boolean with value `False`, it always returns 0.  This is true for both positive and negative numbers.  If you multiply a string by a boolean with value `True`, it just returns that same string.  And if you multiply a string by a boolean with value `False`, it returns an empty string (or a string with length zero)."
      ],
      "text/plain": [
       "Correct: \n",
       "\n",
       "When you multiple an integer or float by a boolean with value `True`, it just returns that same integer or float (and is equivalent to multiplying by 1).  If you multiply an integer or float by a boolean with value `False`, it always returns 0.  This is true for both positive and negative numbers.  If you multiply a string by a boolean with value `True`, it just returns that same string.  And if you multiply a string by a boolean with value `False`, it returns an empty string (or a string with length zero)."
      ]
     },
     "metadata": {},
     "output_type": "display_data"
    }
   ],
   "source": [
    "# Check your answer (Run this code cell to receive credit!)\n",
    "q2.check()"
   ]
  },
  {
   "cell_type": "markdown",
   "id": "b4d02836",
   "metadata": {
    "papermill": {
     "duration": 0.006825,
     "end_time": "2022-08-24T01:52:47.943297",
     "exception": false,
     "start_time": "2022-08-24T01:52:47.936472",
     "status": "completed"
    },
    "tags": []
   },
   "source": [
    "# Question 3\n",
    "\n",
    "In this question, you will build off your work from the previous exercise to write a function that estimates the value of a house.\n",
    "\n",
    "Use the next code cell to create a function `get_expected_cost` that takes as input three variables:\n",
    "- `beds` - number of bedrooms (data type float)\n",
    "- `baths` - number of bathrooms (data type float)\n",
    "- `has_basement` - whether or not the house has a basement (data type boolean)\n",
    "\n",
    "It should return the expected cost of a house with those characteristics. Assume that:\n",
    "- the expected cost for a house with 0 bedrooms and 0 bathrooms, and no basement is 80000, \n",
    "- each bedroom adds 30000 to the expected cost,\n",
    "- each bathroom adds 10000 to the expected cost, and\n",
    "- a basement adds 40000 to the expected cost.\n",
    "\n",
    "For instance,\n",
    "- a house with 1 bedroom, 1 bathroom, and no basement has an expected cost of 80000 + 30000 + 10000 = 120000.  This value will be calculated with `get_expected_cost(1, 1, False)`.\n",
    "- a house with 2 bedrooms, 1 bathroom, and a basement has an expected cost of 80000 + 2*30000 + 10000 + 40000 = 190000.  This value will be calculated with `get_expected_cost(2, 1, True)`.\n",
    "\n",
    "Remember you can always get a hint by uncommenting `q3.hint()` in the code cell following the next!"
   ]
  },
  {
   "cell_type": "code",
   "execution_count": 7,
   "id": "86e178a1",
   "metadata": {
    "execution": {
     "iopub.execute_input": "2022-08-24T01:52:47.959873Z",
     "iopub.status.busy": "2022-08-24T01:52:47.959473Z",
     "iopub.status.idle": "2022-08-24T01:52:47.968773Z",
     "shell.execute_reply": "2022-08-24T01:52:47.967664Z"
    },
    "papermill": {
     "duration": 0.020524,
     "end_time": "2022-08-24T01:52:47.971000",
     "exception": false,
     "start_time": "2022-08-24T01:52:47.950476",
     "status": "completed"
    },
    "tags": []
   },
   "outputs": [
    {
     "data": {
      "application/javascript": [
       "parent.postMessage({\"jupyterEvent\": \"custom.exercise_interaction\", \"data\": {\"outcomeType\": 1, \"valueTowardsCompletion\": 0.2, \"interactionType\": 1, \"questionType\": 2, \"questionId\": \"3_EstimateHouseValueBool\", \"learnToolsVersion\": \"0.3.4\", \"failureMessage\": \"\", \"exceptionClass\": \"\", \"trace\": \"\"}}, \"*\")"
      ],
      "text/plain": [
       "<IPython.core.display.Javascript object>"
      ]
     },
     "metadata": {},
     "output_type": "display_data"
    },
    {
     "data": {
      "text/markdown": [
       "<span style=\"color:#33cc33\">Correct</span>"
      ],
      "text/plain": [
       "Correct"
      ]
     },
     "metadata": {},
     "output_type": "display_data"
    }
   ],
   "source": [
    "# TODO: Complete the function\n",
    "def get_expected_cost(beds, baths, has_basement):\n",
    "    value = 80000 + 30000 * beds + 10000 * baths + 40000 * has_basement\n",
    "    return value\n",
    "\n",
    "# Check your answer \n",
    "q3.check()"
   ]
  },
  {
   "cell_type": "code",
   "execution_count": 8,
   "id": "ce10c149",
   "metadata": {
    "execution": {
     "iopub.execute_input": "2022-08-24T01:52:47.987593Z",
     "iopub.status.busy": "2022-08-24T01:52:47.987192Z",
     "iopub.status.idle": "2022-08-24T01:52:47.991475Z",
     "shell.execute_reply": "2022-08-24T01:52:47.990347Z"
    },
    "papermill": {
     "duration": 0.015254,
     "end_time": "2022-08-24T01:52:47.993747",
     "exception": false,
     "start_time": "2022-08-24T01:52:47.978493",
     "status": "completed"
    },
    "tags": []
   },
   "outputs": [],
   "source": [
    "# Uncomment to see a hint\n",
    "#q3.hint()\n",
    "\n",
    "# Uncomment to view the solution\n",
    "#q3.solution()"
   ]
  },
  {
   "cell_type": "markdown",
   "id": "dae6c392",
   "metadata": {
    "papermill": {
     "duration": 0.006989,
     "end_time": "2022-08-24T01:52:48.008177",
     "exception": false,
     "start_time": "2022-08-24T01:52:48.001188",
     "status": "completed"
    },
    "tags": []
   },
   "source": [
    "# Question 4\n",
    "\n",
    "We'll continue our study of boolean arithmetic.  For this question, your task is to provide a description of what happpens when you add booleans. \n",
    "\n",
    "Use the next code cell for your investigation.  Feel free to add or remove any lines of code - use it as your workspace!"
   ]
  },
  {
   "cell_type": "code",
   "execution_count": 9,
   "id": "5937f46c",
   "metadata": {
    "execution": {
     "iopub.execute_input": "2022-08-24T01:52:48.025094Z",
     "iopub.status.busy": "2022-08-24T01:52:48.024622Z",
     "iopub.status.idle": "2022-08-24T01:52:48.030357Z",
     "shell.execute_reply": "2022-08-24T01:52:48.029430Z"
    },
    "papermill": {
     "duration": 0.017259,
     "end_time": "2022-08-24T01:52:48.032808",
     "exception": false,
     "start_time": "2022-08-24T01:52:48.015549",
     "status": "completed"
    },
    "tags": []
   },
   "outputs": [
    {
     "name": "stdout",
     "output_type": "stream",
     "text": [
      "0\n",
      "1\n",
      "1\n",
      "2\n",
      "3\n"
     ]
    }
   ],
   "source": [
    "print(False + False)\n",
    "print(True + False)\n",
    "print(False + True)\n",
    "print(True + True)\n",
    "print(False + True + True + True)"
   ]
  },
  {
   "cell_type": "markdown",
   "id": "62150645",
   "metadata": {
    "papermill": {
     "duration": 0.007222,
     "end_time": "2022-08-24T01:52:48.047543",
     "exception": false,
     "start_time": "2022-08-24T01:52:48.040321",
     "status": "completed"
    },
    "tags": []
   },
   "source": [
    "Once you have an answer, run the code cell below to see the solution.  Viewing the solution will give you credit for answering the problem."
   ]
  },
  {
   "cell_type": "code",
   "execution_count": 10,
   "id": "50e757b2",
   "metadata": {
    "execution": {
     "iopub.execute_input": "2022-08-24T01:52:48.067573Z",
     "iopub.status.busy": "2022-08-24T01:52:48.066747Z",
     "iopub.status.idle": "2022-08-24T01:52:48.078311Z",
     "shell.execute_reply": "2022-08-24T01:52:48.076641Z"
    },
    "papermill": {
     "duration": 0.02612,
     "end_time": "2022-08-24T01:52:48.081275",
     "exception": false,
     "start_time": "2022-08-24T01:52:48.055155",
     "status": "completed"
    },
    "tags": []
   },
   "outputs": [
    {
     "data": {
      "application/javascript": [
       "parent.postMessage({\"jupyterEvent\": \"custom.exercise_interaction\", \"data\": {\"outcomeType\": 1, \"valueTowardsCompletion\": 0.2, \"interactionType\": 1, \"questionType\": 4, \"questionId\": \"4_AddingBooleans\", \"learnToolsVersion\": \"0.3.4\", \"failureMessage\": \"\", \"exceptionClass\": \"\", \"trace\": \"\"}}, \"*\")"
      ],
      "text/plain": [
       "<IPython.core.display.Javascript object>"
      ]
     },
     "metadata": {},
     "output_type": "display_data"
    },
    {
     "data": {
      "text/markdown": [
       "<span style=\"color:#33cc33\">Correct:</span> \n",
       "\n",
       "When you add booleans, adding `False` is equivalent to adding 0, and adding `True` is equivalent to adding 1."
      ],
      "text/plain": [
       "Correct: \n",
       "\n",
       "When you add booleans, adding `False` is equivalent to adding 0, and adding `True` is equivalent to adding 1."
      ]
     },
     "metadata": {},
     "output_type": "display_data"
    }
   ],
   "source": [
    "# Check your answer (Run this code cell to receive credit!)\n",
    "q4.check()"
   ]
  },
  {
   "cell_type": "markdown",
   "id": "512bea02",
   "metadata": {
    "papermill": {
     "duration": 0.008677,
     "end_time": "2022-08-24T01:52:48.098447",
     "exception": false,
     "start_time": "2022-08-24T01:52:48.089770",
     "status": "completed"
    },
    "tags": []
   },
   "source": [
    "# 🌶️ Question 5\n",
    "\n",
    "You own an online shop where you sell rings with custom engravings.  You offer both gold plated and solid gold rings.\n",
    "- Gold plated rings have a base cost of \\\\$50, and you charge \\\\$7 per engraved unit.  \n",
    "- Solid gold rings have a base cost of \\\\$100, and you charge \\\\$10 per engraved unit.\n",
    "- Spaces and punctuation are counted as engraved units.\n",
    "\n",
    "Write a function `cost_of_project()` that takes two arguments:\n",
    "- `engraving` - a Python string with the text of the engraving\n",
    "- `solid_gold` - a Boolean that indicates whether the ring is solid gold\n",
    "\n",
    "It should return the cost of the project.  This question should be fairly challenging, and you may need a hint."
   ]
  },
  {
   "cell_type": "code",
   "execution_count": 11,
   "id": "b8362b24",
   "metadata": {
    "execution": {
     "iopub.execute_input": "2022-08-24T01:52:48.118442Z",
     "iopub.status.busy": "2022-08-24T01:52:48.117947Z",
     "iopub.status.idle": "2022-08-24T01:52:48.128382Z",
     "shell.execute_reply": "2022-08-24T01:52:48.127351Z"
    },
    "papermill": {
     "duration": 0.025698,
     "end_time": "2022-08-24T01:52:48.132555",
     "exception": false,
     "start_time": "2022-08-24T01:52:48.106857",
     "status": "completed"
    },
    "tags": []
   },
   "outputs": [
    {
     "data": {
      "application/javascript": [
       "parent.postMessage({\"jupyterEvent\": \"custom.exercise_interaction\", \"data\": {\"outcomeType\": 1, \"valueTowardsCompletion\": 0.2, \"interactionType\": 1, \"questionType\": 2, \"questionId\": \"5_CustomEngravings\", \"learnToolsVersion\": \"0.3.4\", \"failureMessage\": \"\", \"exceptionClass\": \"\", \"trace\": \"\"}}, \"*\")"
      ],
      "text/plain": [
       "<IPython.core.display.Javascript object>"
      ]
     },
     "metadata": {},
     "output_type": "display_data"
    },
    {
     "data": {
      "text/markdown": [
       "<span style=\"color:#33cc33\">Correct</span>"
      ],
      "text/plain": [
       "Correct"
      ]
     },
     "metadata": {},
     "output_type": "display_data"
    }
   ],
   "source": [
    "def cost_of_project(engraving, solid_gold):\n",
    "    cost = 50 + 50 * solid_gold + 7 * len(engraving) + 3 * len(engraving) * solid_gold\n",
    "    return cost\n",
    "\n",
    "# Check your answer\n",
    "q5.check()"
   ]
  },
  {
   "cell_type": "code",
   "execution_count": 12,
   "id": "68e305ba",
   "metadata": {
    "execution": {
     "iopub.execute_input": "2022-08-24T01:52:48.152598Z",
     "iopub.status.busy": "2022-08-24T01:52:48.152208Z",
     "iopub.status.idle": "2022-08-24T01:52:48.156891Z",
     "shell.execute_reply": "2022-08-24T01:52:48.155652Z"
    },
    "papermill": {
     "duration": 0.016613,
     "end_time": "2022-08-24T01:52:48.159293",
     "exception": false,
     "start_time": "2022-08-24T01:52:48.142680",
     "status": "completed"
    },
    "tags": []
   },
   "outputs": [],
   "source": [
    "# Uncomment to see a hint\n",
    "#q5.hint()\n",
    "\n",
    "# Uncomment to view the solution\n",
    "#q5.solution()"
   ]
  },
  {
   "cell_type": "markdown",
   "id": "46941d63",
   "metadata": {
    "papermill": {
     "duration": 0.007768,
     "end_time": "2022-08-24T01:52:48.175163",
     "exception": false,
     "start_time": "2022-08-24T01:52:48.167395",
     "status": "completed"
    },
    "tags": []
   },
   "source": [
    "Run the next code cell to calculate the cost of engraving `Charlie+Denver` on a solid gold ring."
   ]
  },
  {
   "cell_type": "code",
   "execution_count": 13,
   "id": "c4c053a0",
   "metadata": {
    "execution": {
     "iopub.execute_input": "2022-08-24T01:52:48.194937Z",
     "iopub.status.busy": "2022-08-24T01:52:48.194561Z",
     "iopub.status.idle": "2022-08-24T01:52:48.199688Z",
     "shell.execute_reply": "2022-08-24T01:52:48.198585Z"
    },
    "papermill": {
     "duration": 0.018581,
     "end_time": "2022-08-24T01:52:48.202326",
     "exception": false,
     "start_time": "2022-08-24T01:52:48.183745",
     "status": "completed"
    },
    "tags": []
   },
   "outputs": [
    {
     "name": "stdout",
     "output_type": "stream",
     "text": [
      "240\n"
     ]
    }
   ],
   "source": [
    "project_one = cost_of_project(\"Charlie+Denver\", True)\n",
    "print(project_one)"
   ]
  },
  {
   "cell_type": "markdown",
   "id": "4c64e340",
   "metadata": {
    "papermill": {
     "duration": 0.007985,
     "end_time": "2022-08-24T01:52:48.218347",
     "exception": false,
     "start_time": "2022-08-24T01:52:48.210362",
     "status": "completed"
    },
    "tags": []
   },
   "source": [
    "Use the next code cell to calculate the cost of engraving `08/10/2000` on a gold plated ring."
   ]
  },
  {
   "cell_type": "code",
   "execution_count": 14,
   "id": "3f74eb72",
   "metadata": {
    "execution": {
     "iopub.execute_input": "2022-08-24T01:52:48.236516Z",
     "iopub.status.busy": "2022-08-24T01:52:48.235839Z",
     "iopub.status.idle": "2022-08-24T01:52:48.240820Z",
     "shell.execute_reply": "2022-08-24T01:52:48.240040Z"
    },
    "papermill": {
     "duration": 0.017009,
     "end_time": "2022-08-24T01:52:48.243470",
     "exception": false,
     "start_time": "2022-08-24T01:52:48.226461",
     "status": "completed"
    },
    "tags": []
   },
   "outputs": [
    {
     "name": "stdout",
     "output_type": "stream",
     "text": [
      "120\n"
     ]
    }
   ],
   "source": [
    "project_two = cost_of_project(\"08/10/2000\", False)\n",
    "print(project_two)"
   ]
  },
  {
   "cell_type": "markdown",
   "id": "8e1794d7",
   "metadata": {
    "papermill": {
     "duration": 0.007629,
     "end_time": "2022-08-24T01:52:48.259031",
     "exception": false,
     "start_time": "2022-08-24T01:52:48.251402",
     "status": "completed"
    },
    "tags": []
   },
   "source": [
    "# Keep going\n",
    "\n",
    "Continue to the next lesson to **[learn about conditions and conditional statements](https://www.kaggle.com/alexisbcook/conditions-and-conditional-statements)**."
   ]
  },
  {
   "cell_type": "markdown",
   "id": "a0a26462",
   "metadata": {
    "papermill": {
     "duration": 0.007515,
     "end_time": "2022-08-24T01:52:48.274529",
     "exception": false,
     "start_time": "2022-08-24T01:52:48.267014",
     "status": "completed"
    },
    "tags": []
   },
   "source": [
    "---\n",
    "\n",
    "\n",
    "\n",
    "\n",
    "*Have questions or comments? Visit the [course discussion forum](https://www.kaggle.com/learn/intro-to-programming/discussion) to chat with other learners.*"
   ]
  }
 ],
 "metadata": {
  "kernelspec": {
   "display_name": "Python 3",
   "language": "python",
   "name": "python3"
  },
  "language_info": {
   "codemirror_mode": {
    "name": "ipython",
    "version": 3
   },
   "file_extension": ".py",
   "mimetype": "text/x-python",
   "name": "python",
   "nbconvert_exporter": "python",
   "pygments_lexer": "ipython3",
   "version": "3.7.12"
  },
  "papermill": {
   "default_parameters": {},
   "duration": 10.789555,
   "end_time": "2022-08-24T01:52:49.004174",
   "environment_variables": {},
   "exception": null,
   "input_path": "__notebook__.ipynb",
   "output_path": "__notebook__.ipynb",
   "parameters": {},
   "start_time": "2022-08-24T01:52:38.214619",
   "version": "2.3.4"
  }
 },
 "nbformat": 4,
 "nbformat_minor": 5
}
