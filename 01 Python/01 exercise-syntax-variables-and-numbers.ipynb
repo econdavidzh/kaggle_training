{
 "cells": [
  {
   "cell_type": "markdown",
   "id": "b48e6397",
   "metadata": {
    "papermill": {
     "duration": 0.006217,
     "end_time": "2022-08-26T03:17:52.555883",
     "exception": false,
     "start_time": "2022-08-26T03:17:52.549666",
     "status": "completed"
    },
    "tags": []
   },
   "source": [
    "**This notebook is an exercise in the [Python](https://www.kaggle.com/learn/python) course.  You can reference the tutorial at [this link](https://www.kaggle.com/colinmorris/hello-python).**\n",
    "\n",
    "---\n"
   ]
  },
  {
   "cell_type": "markdown",
   "id": "2159b046",
   "metadata": {
    "papermill": {
     "duration": 0.005317,
     "end_time": "2022-08-26T03:17:52.566934",
     "exception": false,
     "start_time": "2022-08-26T03:17:52.561617",
     "status": "completed"
    },
    "tags": []
   },
   "source": [
    "Welcome to your first set of Python coding problems.  If this is your first time using Kaggle Notebooks, welcome! \n",
    "\n",
    "Notebooks are composed of blocks (called \"cells\") of text and code. Each of these is editable, though you'll mainly be editing the code cells to answer some questions.\n",
    "\n",
    "To get started, try running the code cell below (by pressing the ► button, or clicking on the cell and pressing ctrl+enter on your keyboard)."
   ]
  },
  {
   "cell_type": "code",
   "execution_count": 1,
   "id": "c9e7afa4",
   "metadata": {
    "execution": {
     "iopub.execute_input": "2022-08-26T03:17:52.579363Z",
     "iopub.status.busy": "2022-08-26T03:17:52.578981Z",
     "iopub.status.idle": "2022-08-26T03:17:52.590646Z",
     "shell.execute_reply": "2022-08-26T03:17:52.589574Z"
    },
    "papermill": {
     "duration": 0.02161,
     "end_time": "2022-08-26T03:17:52.593957",
     "exception": false,
     "start_time": "2022-08-26T03:17:52.572347",
     "status": "completed"
    },
    "tags": []
   },
   "outputs": [
    {
     "name": "stdout",
     "output_type": "stream",
     "text": [
      "You've successfully run some Python code\n",
      "Congratulations!\n"
     ]
    }
   ],
   "source": [
    "print(\"You've successfully run some Python code\")\n",
    "print(\"Congratulations!\")"
   ]
  },
  {
   "cell_type": "markdown",
   "id": "36d79d05",
   "metadata": {
    "papermill": {
     "duration": 0.005317,
     "end_time": "2022-08-26T03:17:52.605745",
     "exception": false,
     "start_time": "2022-08-26T03:17:52.600428",
     "status": "completed"
    },
    "tags": []
   },
   "source": [
    "Try adding another line of code in the cell above and re-running it. \n",
    "\n",
    "Now let's get a little fancier:  Add a new code cell by clicking on an existing code cell, hitting the escape key, and then hitting the `a` or `b` key.  The `a` key will add a cell above the current cell, and `b` adds a cell below.\n",
    "\n",
    "Great! Now you know how to use Notebooks.\n",
    "\n",
    "Each hands-on exercise starts by setting up our feedback and code checking mechanism. Run the code cell below to do that. Then you'll be ready to move on to question 0."
   ]
  },
  {
   "cell_type": "code",
   "execution_count": 2,
   "id": "69057ccd",
   "metadata": {
    "_kg_hide-input": true,
    "_kg_hide-output": true,
    "execution": {
     "iopub.execute_input": "2022-08-26T03:17:52.619498Z",
     "iopub.status.busy": "2022-08-26T03:17:52.619194Z",
     "iopub.status.idle": "2022-08-26T03:17:52.669739Z",
     "shell.execute_reply": "2022-08-26T03:17:52.668321Z"
    },
    "papermill": {
     "duration": 0.060326,
     "end_time": "2022-08-26T03:17:52.672315",
     "exception": false,
     "start_time": "2022-08-26T03:17:52.611989",
     "status": "completed"
    },
    "tags": []
   },
   "outputs": [
    {
     "name": "stdout",
     "output_type": "stream",
     "text": [
      "Setup complete! You're ready to start question 0.\n"
     ]
    }
   ],
   "source": [
    "from learntools.core import binder; binder.bind(globals())\n",
    "from learntools.python.ex1 import *\n",
    "print(\"Setup complete! You're ready to start question 0.\")"
   ]
  },
  {
   "cell_type": "markdown",
   "id": "8e07819e",
   "metadata": {
    "papermill": {
     "duration": 0.006217,
     "end_time": "2022-08-26T03:17:52.685231",
     "exception": false,
     "start_time": "2022-08-26T03:17:52.679014",
     "status": "completed"
    },
    "tags": []
   },
   "source": [
    "# 0.\n",
    "\n",
    "*This is a silly question intended as an introduction to the format we use for hands-on exercises throughout all Kaggle courses.*\n",
    "\n",
    "**What is your favorite color? **\n",
    "\n",
    "To complete this question, create a variable called `color` in the cell below with an appropriate value. The function call `q0.check()` (which we've already provided in the cell below) will check your answer."
   ]
  },
  {
   "cell_type": "code",
   "execution_count": 3,
   "id": "14257420",
   "metadata": {
    "execution": {
     "iopub.execute_input": "2022-08-26T03:17:52.700845Z",
     "iopub.status.busy": "2022-08-26T03:17:52.700261Z",
     "iopub.status.idle": "2022-08-26T03:17:52.709586Z",
     "shell.execute_reply": "2022-08-26T03:17:52.708886Z"
    },
    "papermill": {
     "duration": 0.019913,
     "end_time": "2022-08-26T03:17:52.711288",
     "exception": false,
     "start_time": "2022-08-26T03:17:52.691375",
     "status": "completed"
    },
    "tags": []
   },
   "outputs": [
    {
     "data": {
      "application/javascript": [
       "parent.postMessage({\"jupyterEvent\": \"custom.exercise_interaction\", \"data\": {\"outcomeType\": 1, \"valueTowardsCompletion\": 0.25, \"interactionType\": 1, \"questionType\": 2, \"questionId\": \"0_ExerciseFormatTutorial\", \"learnToolsVersion\": \"0.3.4\", \"failureMessage\": \"\", \"exceptionClass\": \"\", \"trace\": \"\"}}, \"*\")"
      ],
      "text/plain": [
       "<IPython.core.display.Javascript object>"
      ]
     },
     "metadata": {},
     "output_type": "display_data"
    },
    {
     "data": {
      "text/markdown": [
       "<span style=\"color:#33cc33\">Correct:</span> What?! You got it right without needing a hint or anything? Drats. Well hey, you should still continue to the next step to get some practice asking for a hint and checking solutions. (Even though you obviously don't need any help here.)"
      ],
      "text/plain": [
       "Correct: What?! You got it right without needing a hint or anything? Drats. Well hey, you should still continue to the next step to get some practice asking for a hint and checking solutions. (Even though you obviously don't need any help here.)"
      ]
     },
     "metadata": {},
     "output_type": "display_data"
    }
   ],
   "source": [
    "# create a variable called color with an appropriate value on the line below\n",
    "# (Remember, strings in Python must be enclosed in 'single' or \"double\" quotes)\n",
    "color = 'blue'\n",
    "# Check your answer\n",
    "q0.check()"
   ]
  },
  {
   "cell_type": "markdown",
   "id": "22464694",
   "metadata": {
    "papermill": {
     "duration": 0.005494,
     "end_time": "2022-08-26T03:17:52.722679",
     "exception": false,
     "start_time": "2022-08-26T03:17:52.717185",
     "status": "completed"
    },
    "tags": []
   },
   "source": [
    "Didn't get the right answer? How do you not even know your own favorite color?!\n",
    "\n",
    "Delete the `#` in the line below to make one of the lines run. You can choose between getting a hint or the full answer by choosing which line to remove the `#` from. \n",
    "\n",
    "Removing the `#` is called uncommenting, because it changes that line from a \"comment\" which Python doesn't run to code, which Python does run."
   ]
  },
  {
   "cell_type": "code",
   "execution_count": 4,
   "id": "55453bb2",
   "metadata": {
    "execution": {
     "iopub.execute_input": "2022-08-26T03:17:52.736040Z",
     "iopub.status.busy": "2022-08-26T03:17:52.735725Z",
     "iopub.status.idle": "2022-08-26T03:17:52.742863Z",
     "shell.execute_reply": "2022-08-26T03:17:52.741926Z"
    },
    "papermill": {
     "duration": 0.016072,
     "end_time": "2022-08-26T03:17:52.744649",
     "exception": false,
     "start_time": "2022-08-26T03:17:52.728577",
     "status": "completed"
    },
    "tags": []
   },
   "outputs": [
    {
     "data": {
      "application/javascript": [
       "parent.postMessage({\"jupyterEvent\": \"custom.exercise_interaction\", \"data\": {\"interactionType\": 2, \"questionType\": 2, \"questionId\": \"0_ExerciseFormatTutorial\", \"learnToolsVersion\": \"0.3.4\", \"valueTowardsCompletion\": 0.0, \"failureMessage\": \"\", \"exceptionClass\": \"\", \"trace\": \"\", \"outcomeType\": 4}}, \"*\")"
      ],
      "text/plain": [
       "<IPython.core.display.Javascript object>"
      ]
     },
     "metadata": {},
     "output_type": "display_data"
    },
    {
     "data": {
      "text/markdown": [
       "<span style=\"color:#3366cc\">Hint:</span> Your favorite color rhymes with *glue*."
      ],
      "text/plain": [
       "Hint: Your favorite color rhymes with *glue*."
      ]
     },
     "metadata": {},
     "output_type": "display_data"
    }
   ],
   "source": [
    "q0.hint()\n",
    "#q0.solution()"
   ]
  },
  {
   "cell_type": "markdown",
   "id": "72f2f8c8",
   "metadata": {
    "papermill": {
     "duration": 0.005957,
     "end_time": "2022-08-26T03:17:52.756670",
     "exception": false,
     "start_time": "2022-08-26T03:17:52.750713",
     "status": "completed"
    },
    "tags": []
   },
   "source": [
    "The upcoming questions work the same way. The only thing that will change are the question numbers. For the next question, you'll call `q1.check()`, `q1.hint()`, `q1.solution()`, for question 2, you'll call `q2.check()`, and so on."
   ]
  },
  {
   "cell_type": "markdown",
   "id": "967df58a",
   "metadata": {
    "papermill": {
     "duration": 0.005757,
     "end_time": "2022-08-26T03:17:52.768843",
     "exception": false,
     "start_time": "2022-08-26T03:17:52.763086",
     "status": "completed"
    },
    "tags": []
   },
   "source": [
    "<hr/>\n",
    "\n",
    "# 1.\n",
    "\n",
    "Complete the code below. In case it's helpful, here is the table of available arithmetic operations:\n",
    "\n",
    "\n",
    "\n",
    "| Operator     | Name           | Description                                            |\n",
    "|--------------|----------------|--------------------------------------------------------|\n",
    "| ``a + b``    | Addition       | Sum of ``a`` and ``b``                                 |\n",
    "| ``a - b``    | Subtraction    | Difference of ``a`` and ``b``                          |\n",
    "| ``a * b``    | Multiplication | Product of ``a`` and ``b``                             |\n",
    "| ``a / b``    | True division  | Quotient of ``a`` and ``b``                            |\n",
    "| ``a // b``   | Floor division | Quotient of ``a`` and ``b``, removing fractional parts |\n",
    "| ``a % b``    | Modulus        | Integer remainder after division of ``a`` by ``b``     |\n",
    "| ``a ** b``   | Exponentiation | ``a`` raised to the power of ``b``                     |\n",
    "| ``-a``       | Negation       | The negative of ``a``                                  |\n",
    "\n",
    "<span style=\"display:none\"></span>\n"
   ]
  },
  {
   "cell_type": "code",
   "execution_count": 5,
   "id": "cbe94105",
   "metadata": {
    "execution": {
     "iopub.execute_input": "2022-08-26T03:17:52.782410Z",
     "iopub.status.busy": "2022-08-26T03:17:52.782077Z",
     "iopub.status.idle": "2022-08-26T03:17:52.791345Z",
     "shell.execute_reply": "2022-08-26T03:17:52.790586Z"
    },
    "papermill": {
     "duration": 0.018174,
     "end_time": "2022-08-26T03:17:52.793107",
     "exception": false,
     "start_time": "2022-08-26T03:17:52.774933",
     "status": "completed"
    },
    "tags": []
   },
   "outputs": [
    {
     "data": {
      "application/javascript": [
       "parent.postMessage({\"jupyterEvent\": \"custom.exercise_interaction\", \"data\": {\"outcomeType\": 1, \"valueTowardsCompletion\": 0.25, \"interactionType\": 1, \"questionType\": 1, \"questionId\": \"1_CircleArea\", \"learnToolsVersion\": \"0.3.4\", \"failureMessage\": \"\", \"exceptionClass\": \"\", \"trace\": \"\"}}, \"*\")"
      ],
      "text/plain": [
       "<IPython.core.display.Javascript object>"
      ]
     },
     "metadata": {},
     "output_type": "display_data"
    },
    {
     "data": {
      "text/markdown": [
       "<span style=\"color:#33cc33\">Correct</span>"
      ],
      "text/plain": [
       "Correct"
      ]
     },
     "metadata": {},
     "output_type": "display_data"
    }
   ],
   "source": [
    "pi = 3.14159 # approximate\n",
    "diameter = 3\n",
    "\n",
    "# Create a variable called 'radius' equal to half the diameter\n",
    "radius = diameter/2\n",
    "\n",
    "# Create a variable called 'area', using the formula for the area of a circle: pi times the radius squared\n",
    "area = pi * radius ** 2\n",
    "\n",
    "# Check your answer\n",
    "q1.check()"
   ]
  },
  {
   "cell_type": "code",
   "execution_count": 6,
   "id": "8bff2798",
   "metadata": {
    "execution": {
     "iopub.execute_input": "2022-08-26T03:17:52.808011Z",
     "iopub.status.busy": "2022-08-26T03:17:52.807699Z",
     "iopub.status.idle": "2022-08-26T03:17:52.811082Z",
     "shell.execute_reply": "2022-08-26T03:17:52.810161Z"
    },
    "papermill": {
     "duration": 0.013032,
     "end_time": "2022-08-26T03:17:52.813016",
     "exception": false,
     "start_time": "2022-08-26T03:17:52.799984",
     "status": "completed"
    },
    "tags": []
   },
   "outputs": [],
   "source": [
    "# Uncomment and run the lines below if you need help.\n",
    "#q1.hint()\n",
    "#q1.solution()"
   ]
  },
  {
   "cell_type": "markdown",
   "id": "c34fd42a",
   "metadata": {
    "papermill": {
     "duration": 0.0063,
     "end_time": "2022-08-26T03:17:52.825737",
     "exception": false,
     "start_time": "2022-08-26T03:17:52.819437",
     "status": "completed"
    },
    "tags": []
   },
   "source": [
    "<hr/>\n",
    "\n",
    "# 2.\n",
    "\n",
    "Add code to the following cell to swap variables `a` and `b` (so that `a` refers to the object previously referred to by `b` and vice versa)."
   ]
  },
  {
   "cell_type": "code",
   "execution_count": 7,
   "id": "fbd9a8ae",
   "metadata": {
    "execution": {
     "iopub.execute_input": "2022-08-26T03:17:52.840977Z",
     "iopub.status.busy": "2022-08-26T03:17:52.840361Z",
     "iopub.status.idle": "2022-08-26T03:17:52.849480Z",
     "shell.execute_reply": "2022-08-26T03:17:52.848711Z"
    },
    "papermill": {
     "duration": 0.018958,
     "end_time": "2022-08-26T03:17:52.851256",
     "exception": false,
     "start_time": "2022-08-26T03:17:52.832298",
     "status": "completed"
    },
    "tags": []
   },
   "outputs": [
    {
     "data": {
      "application/javascript": [
       "parent.postMessage({\"jupyterEvent\": \"custom.exercise_interaction\", \"data\": {\"outcomeType\": 1, \"valueTowardsCompletion\": 0.25, \"interactionType\": 1, \"questionType\": 2, \"questionId\": \"2_VariableSwap\", \"learnToolsVersion\": \"0.3.4\", \"failureMessage\": \"\", \"exceptionClass\": \"\", \"trace\": \"\"}}, \"*\")"
      ],
      "text/plain": [
       "<IPython.core.display.Javascript object>"
      ]
     },
     "metadata": {},
     "output_type": "display_data"
    },
    {
     "data": {
      "text/markdown": [
       "<span style=\"color:#33cc33\">Correct:</span> \n",
       "\n",
       "The most straightforward solution is to use a third variable to temporarily store one of the old values. e.g.:\n",
       "\n",
       "    tmp = a\n",
       "    a = b\n",
       "    b = tmp\n",
       "\n",
       "If you've read lots of Python code, you might have seen the following trick to swap two variables in one line:\n",
       "\n",
       "    a, b = b, a\n",
       "\n",
       "We'll demystify this bit of Python magic later when we talk about *tuples*."
      ],
      "text/plain": [
       "Correct: \n",
       "\n",
       "The most straightforward solution is to use a third variable to temporarily store one of the old values. e.g.:\n",
       "\n",
       "    tmp = a\n",
       "    a = b\n",
       "    b = tmp\n",
       "\n",
       "If you've read lots of Python code, you might have seen the following trick to swap two variables in one line:\n",
       "\n",
       "    a, b = b, a\n",
       "\n",
       "We'll demystify this bit of Python magic later when we talk about *tuples*."
      ]
     },
     "metadata": {},
     "output_type": "display_data"
    }
   ],
   "source": [
    "########### Setup code - don't touch this part ######################\n",
    "# If you're curious, these are examples of lists. We'll talk about \n",
    "# them in depth a few lessons from now. For now, just know that they're\n",
    "# yet another type of Python object, like int or float.\n",
    "a = [1, 2, 3]\n",
    "b = [3, 2, 1]\n",
    "q2.store_original_ids()\n",
    "######################################################################\n",
    "\n",
    "# Your code goes here. Swap the values to which a and b refer.\n",
    "# If you get stuck, you can always uncomment one or both of the lines in\n",
    "# the next cell for a hint, or to peek at the solution.\n",
    "\n",
    "temp_a = a\n",
    "a = b\n",
    "b = temp_a\n",
    "\n",
    "######################################################################\n",
    "\n",
    "# Check your answer\n",
    "q2.check()"
   ]
  },
  {
   "cell_type": "code",
   "execution_count": 8,
   "id": "686ea9d4",
   "metadata": {
    "execution": {
     "iopub.execute_input": "2022-08-26T03:17:52.866872Z",
     "iopub.status.busy": "2022-08-26T03:17:52.866239Z",
     "iopub.status.idle": "2022-08-26T03:17:52.870383Z",
     "shell.execute_reply": "2022-08-26T03:17:52.869674Z"
    },
    "papermill": {
     "duration": 0.01453,
     "end_time": "2022-08-26T03:17:52.872416",
     "exception": false,
     "start_time": "2022-08-26T03:17:52.857886",
     "status": "completed"
    },
    "tags": []
   },
   "outputs": [],
   "source": [
    "#q2.hint()"
   ]
  },
  {
   "cell_type": "code",
   "execution_count": 9,
   "id": "cd1399dc",
   "metadata": {
    "execution": {
     "iopub.execute_input": "2022-08-26T03:17:52.888179Z",
     "iopub.status.busy": "2022-08-26T03:17:52.887627Z",
     "iopub.status.idle": "2022-08-26T03:17:52.891615Z",
     "shell.execute_reply": "2022-08-26T03:17:52.890944Z"
    },
    "papermill": {
     "duration": 0.013835,
     "end_time": "2022-08-26T03:17:52.893474",
     "exception": false,
     "start_time": "2022-08-26T03:17:52.879639",
     "status": "completed"
    },
    "tags": []
   },
   "outputs": [],
   "source": [
    "#q2.solution()"
   ]
  },
  {
   "cell_type": "markdown",
   "id": "1c8796b8",
   "metadata": {
    "papermill": {
     "duration": 0.006392,
     "end_time": "2022-08-26T03:17:52.906778",
     "exception": false,
     "start_time": "2022-08-26T03:17:52.900386",
     "status": "completed"
    },
    "tags": []
   },
   "source": [
    "<hr/>\n",
    "\n",
    "# 3a.\n",
    "\n",
    "Add parentheses to the following expression so that it evaluates to 1."
   ]
  },
  {
   "cell_type": "code",
   "execution_count": 10,
   "id": "6f14dba4",
   "metadata": {
    "execution": {
     "iopub.execute_input": "2022-08-26T03:17:52.921926Z",
     "iopub.status.busy": "2022-08-26T03:17:52.921387Z",
     "iopub.status.idle": "2022-08-26T03:17:52.928160Z",
     "shell.execute_reply": "2022-08-26T03:17:52.926511Z"
    },
    "papermill": {
     "duration": 0.016634,
     "end_time": "2022-08-26T03:17:52.930111",
     "exception": false,
     "start_time": "2022-08-26T03:17:52.913477",
     "status": "completed"
    },
    "tags": []
   },
   "outputs": [
    {
     "data": {
      "text/plain": [
       "1"
      ]
     },
     "execution_count": 10,
     "metadata": {},
     "output_type": "execute_result"
    }
   ],
   "source": [
    "(5 - 3) // 2"
   ]
  },
  {
   "cell_type": "code",
   "execution_count": 11,
   "id": "97a58135",
   "metadata": {
    "execution": {
     "iopub.execute_input": "2022-08-26T03:17:52.945557Z",
     "iopub.status.busy": "2022-08-26T03:17:52.945011Z",
     "iopub.status.idle": "2022-08-26T03:17:52.948113Z",
     "shell.execute_reply": "2022-08-26T03:17:52.947546Z"
    },
    "papermill": {
     "duration": 0.012893,
     "end_time": "2022-08-26T03:17:52.949776",
     "exception": false,
     "start_time": "2022-08-26T03:17:52.936883",
     "status": "completed"
    },
    "tags": []
   },
   "outputs": [],
   "source": [
    "#q3.a.hint()"
   ]
  },
  {
   "cell_type": "code",
   "execution_count": 12,
   "id": "80118a5c",
   "metadata": {
    "execution": {
     "iopub.execute_input": "2022-08-26T03:17:52.965679Z",
     "iopub.status.busy": "2022-08-26T03:17:52.965112Z",
     "iopub.status.idle": "2022-08-26T03:17:52.970722Z",
     "shell.execute_reply": "2022-08-26T03:17:52.970112Z"
    },
    "papermill": {
     "duration": 0.015372,
     "end_time": "2022-08-26T03:17:52.972226",
     "exception": false,
     "start_time": "2022-08-26T03:17:52.956854",
     "status": "completed"
    },
    "tags": []
   },
   "outputs": [
    {
     "data": {
      "application/javascript": [
       "parent.postMessage({\"jupyterEvent\": \"custom.exercise_interaction\", \"data\": {\"interactionType\": 3, \"questionType\": 4, \"questionId\": \"3.1_ArithmeticParensEasy\", \"learnToolsVersion\": \"0.3.4\", \"valueTowardsCompletion\": 0.0, \"failureMessage\": \"\", \"exceptionClass\": \"\", \"trace\": \"\", \"outcomeType\": 4}}, \"*\")"
      ],
      "text/plain": [
       "<IPython.core.display.Javascript object>"
      ]
     },
     "metadata": {},
     "output_type": "display_data"
    },
    {
     "data": {
      "text/markdown": [
       "<span style=\"color:#33cc99\">Solution:</span> \n",
       "```python\n",
       "(5 - 3) // 2\n",
       "```"
      ],
      "text/plain": [
       "Solution: \n",
       "```python\n",
       "(5 - 3) // 2\n",
       "```"
      ]
     },
     "metadata": {},
     "output_type": "display_data"
    }
   ],
   "source": [
    "# Check your answer (Run this code cell to receive credit!)\n",
    "q3.a.solution()"
   ]
  },
  {
   "cell_type": "markdown",
   "id": "2454fb46",
   "metadata": {
    "papermill": {
     "duration": 0.006721,
     "end_time": "2022-08-26T03:17:52.985984",
     "exception": false,
     "start_time": "2022-08-26T03:17:52.979263",
     "status": "completed"
    },
    "tags": []
   },
   "source": [
    "# 3b.  <span title=\"A bit spicy\" style=\"color: darkgreen \">🌶️</span>\n",
    "\n",
    "<small>Questions, like this one, marked a spicy pepper are a bit harder.</small>\n",
    "\n",
    "Add parentheses to the following expression so that it evaluates to 0."
   ]
  },
  {
   "cell_type": "code",
   "execution_count": 13,
   "id": "c25bc860",
   "metadata": {
    "execution": {
     "iopub.execute_input": "2022-08-26T03:17:53.002991Z",
     "iopub.status.busy": "2022-08-26T03:17:53.002435Z",
     "iopub.status.idle": "2022-08-26T03:17:53.007020Z",
     "shell.execute_reply": "2022-08-26T03:17:53.006464Z"
    },
    "papermill": {
     "duration": 0.015359,
     "end_time": "2022-08-26T03:17:53.008959",
     "exception": false,
     "start_time": "2022-08-26T03:17:52.993600",
     "status": "completed"
    },
    "tags": []
   },
   "outputs": [
    {
     "data": {
      "text/plain": [
       "0"
      ]
     },
     "execution_count": 13,
     "metadata": {},
     "output_type": "execute_result"
    }
   ],
   "source": [
    "8 - 3 * 2 - (1 + 1)"
   ]
  },
  {
   "cell_type": "code",
   "execution_count": 14,
   "id": "1ec18963",
   "metadata": {
    "execution": {
     "iopub.execute_input": "2022-08-26T03:17:53.025035Z",
     "iopub.status.busy": "2022-08-26T03:17:53.024506Z",
     "iopub.status.idle": "2022-08-26T03:17:53.027603Z",
     "shell.execute_reply": "2022-08-26T03:17:53.027021Z"
    },
    "papermill": {
     "duration": 0.012901,
     "end_time": "2022-08-26T03:17:53.029179",
     "exception": false,
     "start_time": "2022-08-26T03:17:53.016278",
     "status": "completed"
    },
    "tags": []
   },
   "outputs": [],
   "source": [
    "#q3.b.hint()"
   ]
  },
  {
   "cell_type": "code",
   "execution_count": 15,
   "id": "8b0ff7b4",
   "metadata": {
    "execution": {
     "iopub.execute_input": "2022-08-26T03:17:53.045705Z",
     "iopub.status.busy": "2022-08-26T03:17:53.044971Z",
     "iopub.status.idle": "2022-08-26T03:17:53.050739Z",
     "shell.execute_reply": "2022-08-26T03:17:53.050176Z"
    },
    "papermill": {
     "duration": 0.015892,
     "end_time": "2022-08-26T03:17:53.052696",
     "exception": false,
     "start_time": "2022-08-26T03:17:53.036804",
     "status": "completed"
    },
    "tags": []
   },
   "outputs": [
    {
     "data": {
      "application/javascript": [
       "parent.postMessage({\"jupyterEvent\": \"custom.exercise_interaction\", \"data\": {\"interactionType\": 3, \"questionType\": 4, \"questionId\": \"3.2_ArithmeticParensHard\", \"learnToolsVersion\": \"0.3.4\", \"valueTowardsCompletion\": 0.0, \"failureMessage\": \"\", \"exceptionClass\": \"\", \"trace\": \"\", \"outcomeType\": 4}}, \"*\")"
      ],
      "text/plain": [
       "<IPython.core.display.Javascript object>"
      ]
     },
     "metadata": {},
     "output_type": "display_data"
    },
    {
     "data": {
      "text/markdown": [
       "<span style=\"color:#33cc99\">Solution:</span> `(8 - 3) * (2 - (1 + 1))` is one solution. There may be others."
      ],
      "text/plain": [
       "Solution: `(8 - 3) * (2 - (1 + 1))` is one solution. There may be others."
      ]
     },
     "metadata": {},
     "output_type": "display_data"
    }
   ],
   "source": [
    "# Check your answer (Run this code cell to receive credit!)\n",
    "q3.b.solution()"
   ]
  },
  {
   "cell_type": "markdown",
   "id": "0a469fb0",
   "metadata": {
    "papermill": {
     "duration": 0.006868,
     "end_time": "2022-08-26T03:17:53.066972",
     "exception": false,
     "start_time": "2022-08-26T03:17:53.060104",
     "status": "completed"
    },
    "tags": []
   },
   "source": [
    "<hr/>\n",
    "\n",
    "# 4. \n",
    "Alice, Bob and Carol have agreed to pool their Halloween candy and split it evenly among themselves.\n",
    "For the sake of their friendship, any candies left over will be smashed. For example, if they collectively\n",
    "bring home 91 candies, they'll take 30 each and smash 1.\n",
    "\n",
    "Write an arithmetic expression below to calculate how many candies they must smash for a given haul."
   ]
  },
  {
   "cell_type": "code",
   "execution_count": 16,
   "id": "c01f92d1",
   "metadata": {
    "execution": {
     "iopub.execute_input": "2022-08-26T03:17:53.083008Z",
     "iopub.status.busy": "2022-08-26T03:17:53.082509Z",
     "iopub.status.idle": "2022-08-26T03:17:53.088564Z",
     "shell.execute_reply": "2022-08-26T03:17:53.088006Z"
    },
    "papermill": {
     "duration": 0.015773,
     "end_time": "2022-08-26T03:17:53.090037",
     "exception": false,
     "start_time": "2022-08-26T03:17:53.074264",
     "status": "completed"
    },
    "tags": []
   },
   "outputs": [
    {
     "data": {
      "application/javascript": [
       "parent.postMessage({\"jupyterEvent\": \"custom.exercise_interaction\", \"data\": {\"outcomeType\": 1, \"valueTowardsCompletion\": 0.25, \"interactionType\": 1, \"questionType\": 1, \"questionId\": \"4_CandySplitting\", \"learnToolsVersion\": \"0.3.4\", \"failureMessage\": \"\", \"exceptionClass\": \"\", \"trace\": \"\"}}, \"*\")"
      ],
      "text/plain": [
       "<IPython.core.display.Javascript object>"
      ]
     },
     "metadata": {},
     "output_type": "display_data"
    },
    {
     "data": {
      "text/markdown": [
       "<span style=\"color:#33cc33\">Correct</span>"
      ],
      "text/plain": [
       "Correct"
      ]
     },
     "metadata": {},
     "output_type": "display_data"
    }
   ],
   "source": [
    "# Variables representing the number of candies collected by alice, bob, and carol\n",
    "alice_candies = 121\n",
    "bob_candies = 77\n",
    "carol_candies = 109\n",
    "\n",
    "# Your code goes here! Replace the right-hand side of this assignment with an expression\n",
    "# involving alice_candies, bob_candies, and carol_candies\n",
    "to_smash = (alice_candies + bob_candies + carol_candies) % 3\n",
    "\n",
    "# Check your answer\n",
    "q4.check()"
   ]
  },
  {
   "cell_type": "code",
   "execution_count": 17,
   "id": "fe9d27ee",
   "metadata": {
    "execution": {
     "iopub.execute_input": "2022-08-26T03:17:53.106839Z",
     "iopub.status.busy": "2022-08-26T03:17:53.106542Z",
     "iopub.status.idle": "2022-08-26T03:17:53.110517Z",
     "shell.execute_reply": "2022-08-26T03:17:53.109576Z"
    },
    "papermill": {
     "duration": 0.014617,
     "end_time": "2022-08-26T03:17:53.112205",
     "exception": false,
     "start_time": "2022-08-26T03:17:53.097588",
     "status": "completed"
    },
    "tags": []
   },
   "outputs": [],
   "source": [
    "#q4.hint()\n",
    "#q4.solution()"
   ]
  },
  {
   "cell_type": "markdown",
   "id": "822923bd",
   "metadata": {
    "papermill": {
     "duration": 0.00765,
     "end_time": "2022-08-26T03:17:53.127673",
     "exception": false,
     "start_time": "2022-08-26T03:17:53.120023",
     "status": "completed"
    },
    "tags": []
   },
   "source": [
    "# Keep Going\n",
    "\n",
    "Next up, you'll **[learn to write new functions and understand functions others write](https://www.kaggle.com/colinmorris/functions-and-getting-help)**. This will make you at least 10 times more productive as a Python programmer. "
   ]
  },
  {
   "cell_type": "markdown",
   "id": "915ddf7a",
   "metadata": {
    "papermill": {
     "duration": 0.007881,
     "end_time": "2022-08-26T03:17:53.143293",
     "exception": false,
     "start_time": "2022-08-26T03:17:53.135412",
     "status": "completed"
    },
    "tags": []
   },
   "source": [
    "---\n",
    "\n",
    "\n",
    "\n",
    "\n",
    "*Have questions or comments? Visit the [course discussion forum](https://www.kaggle.com/learn/python/discussion) to chat with other learners.*"
   ]
  }
 ],
 "metadata": {
  "kernelspec": {
   "display_name": "Python 3",
   "language": "python",
   "name": "python3"
  },
  "language_info": {
   "codemirror_mode": {
    "name": "ipython",
    "version": 3
   },
   "file_extension": ".py",
   "mimetype": "text/x-python",
   "name": "python",
   "nbconvert_exporter": "python",
   "pygments_lexer": "ipython3",
   "version": "3.7.12"
  },
  "papermill": {
   "default_parameters": {},
   "duration": 9.525142,
   "end_time": "2022-08-26T03:17:53.771075",
   "environment_variables": {},
   "exception": null,
   "input_path": "__notebook__.ipynb",
   "output_path": "__notebook__.ipynb",
   "parameters": {},
   "start_time": "2022-08-26T03:17:44.245933",
   "version": "2.3.4"
  }
 },
 "nbformat": 4,
 "nbformat_minor": 5
}
