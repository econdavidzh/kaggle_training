{
 "cells": [
  {
   "cell_type": "markdown",
   "id": "60ea401d",
   "metadata": {
    "papermill": {
     "duration": 0.010285,
     "end_time": "2022-08-26T03:43:55.848202",
     "exception": false,
     "start_time": "2022-08-26T03:43:55.837917",
     "status": "completed"
    },
    "tags": []
   },
   "source": [
    "**This notebook is an exercise in the [Python](https://www.kaggle.com/learn/python) course.  You can reference the tutorial at [this link](https://www.kaggle.com/colinmorris/booleans-and-conditionals).**\n",
    "\n",
    "---\n"
   ]
  },
  {
   "cell_type": "markdown",
   "id": "62e562ed",
   "metadata": {
    "papermill": {
     "duration": 0.008304,
     "end_time": "2022-08-26T03:43:55.865337",
     "exception": false,
     "start_time": "2022-08-26T03:43:55.857033",
     "status": "completed"
    },
    "tags": []
   },
   "source": [
    "In this exercise, you'll put to work what you have learned about booleans and conditionals.\n",
    "\n",
    "To get started, **run the setup code below** before writing your own code (and if you leave this notebook and come back later, don't forget to run the setup code again)."
   ]
  },
  {
   "cell_type": "code",
   "execution_count": 1,
   "id": "b873a96c",
   "metadata": {
    "execution": {
     "iopub.execute_input": "2022-08-26T03:43:55.885622Z",
     "iopub.status.busy": "2022-08-26T03:43:55.884912Z",
     "iopub.status.idle": "2022-08-26T03:43:55.948900Z",
     "shell.execute_reply": "2022-08-26T03:43:55.947370Z"
    },
    "papermill": {
     "duration": 0.078931,
     "end_time": "2022-08-26T03:43:55.952940",
     "exception": false,
     "start_time": "2022-08-26T03:43:55.874009",
     "status": "completed"
    },
    "tags": []
   },
   "outputs": [
    {
     "name": "stdout",
     "output_type": "stream",
     "text": [
      "Setup complete.\n"
     ]
    }
   ],
   "source": [
    "from learntools.core import binder; binder.bind(globals())\n",
    "from learntools.python.ex3 import *\n",
    "print('Setup complete.')"
   ]
  },
  {
   "cell_type": "markdown",
   "id": "a68fcf28",
   "metadata": {
    "papermill": {
     "duration": 0.00844,
     "end_time": "2022-08-26T03:43:55.970387",
     "exception": false,
     "start_time": "2022-08-26T03:43:55.961947",
     "status": "completed"
    },
    "tags": []
   },
   "source": [
    "# 1.\n",
    "\n",
    "Many programming languages have [`sign`](https://en.wikipedia.org/wiki/Sign_function) available as a built-in function. Python doesn't, but we can define our own!\n",
    "\n",
    "In the cell below, define a function called `sign` which takes a numerical argument and returns -1 if it's negative, 1 if it's positive, and 0 if it's 0."
   ]
  },
  {
   "cell_type": "code",
   "execution_count": 2,
   "id": "68065e6c",
   "metadata": {
    "execution": {
     "iopub.execute_input": "2022-08-26T03:43:55.990099Z",
     "iopub.status.busy": "2022-08-26T03:43:55.989639Z",
     "iopub.status.idle": "2022-08-26T03:43:56.001484Z",
     "shell.execute_reply": "2022-08-26T03:43:56.000526Z"
    },
    "papermill": {
     "duration": 0.024971,
     "end_time": "2022-08-26T03:43:56.004037",
     "exception": false,
     "start_time": "2022-08-26T03:43:55.979066",
     "status": "completed"
    },
    "tags": []
   },
   "outputs": [
    {
     "data": {
      "application/javascript": [
       "parent.postMessage({\"jupyterEvent\": \"custom.exercise_interaction\", \"data\": {\"outcomeType\": 1, \"valueTowardsCompletion\": 0.2, \"interactionType\": 1, \"questionType\": 2, \"questionId\": \"1_SignFunctionProblem\", \"learnToolsVersion\": \"0.3.4\", \"failureMessage\": \"\", \"exceptionClass\": \"\", \"trace\": \"\"}}, \"*\")"
      ],
      "text/plain": [
       "<IPython.core.display.Javascript object>"
      ]
     },
     "metadata": {},
     "output_type": "display_data"
    },
    {
     "data": {
      "text/markdown": [
       "<span style=\"color:#33cc33\">Correct</span>"
      ],
      "text/plain": [
       "Correct"
      ]
     },
     "metadata": {},
     "output_type": "display_data"
    }
   ],
   "source": [
    "# Your code goes here. Define a function called 'sign'\n",
    "def sign(num):\n",
    "    if num < 0:\n",
    "        return -1\n",
    "    elif num == 0:\n",
    "        return 0\n",
    "    else:\n",
    "        return 1\n",
    "# Check your answer\n",
    "q1.check()"
   ]
  },
  {
   "cell_type": "code",
   "execution_count": 3,
   "id": "8dd1a6ab",
   "metadata": {
    "execution": {
     "iopub.execute_input": "2022-08-26T03:43:56.026506Z",
     "iopub.status.busy": "2022-08-26T03:43:56.026025Z",
     "iopub.status.idle": "2022-08-26T03:43:56.035019Z",
     "shell.execute_reply": "2022-08-26T03:43:56.034151Z"
    },
    "papermill": {
     "duration": 0.022376,
     "end_time": "2022-08-26T03:43:56.037114",
     "exception": false,
     "start_time": "2022-08-26T03:43:56.014738",
     "status": "completed"
    },
    "tags": []
   },
   "outputs": [
    {
     "data": {
      "application/javascript": [
       "parent.postMessage({\"jupyterEvent\": \"custom.exercise_interaction\", \"data\": {\"interactionType\": 3, \"questionType\": 2, \"questionId\": \"1_SignFunctionProblem\", \"learnToolsVersion\": \"0.3.4\", \"valueTowardsCompletion\": 0.0, \"failureMessage\": \"\", \"exceptionClass\": \"\", \"trace\": \"\", \"outcomeType\": 4}}, \"*\")"
      ],
      "text/plain": [
       "<IPython.core.display.Javascript object>"
      ]
     },
     "metadata": {},
     "output_type": "display_data"
    },
    {
     "data": {
      "text/markdown": [
       "<span style=\"color:#33cc99\">Solution:</span> \n",
       "```python\n",
       "def sign(x):\n",
       "    if x > 0:\n",
       "        return 1\n",
       "    elif x < 0:\n",
       "        return -1\n",
       "    else:\n",
       "        return 0\n",
       "```"
      ],
      "text/plain": [
       "Solution: \n",
       "```python\n",
       "def sign(x):\n",
       "    if x > 0:\n",
       "        return 1\n",
       "    elif x < 0:\n",
       "        return -1\n",
       "    else:\n",
       "        return 0\n",
       "```"
      ]
     },
     "metadata": {},
     "output_type": "display_data"
    }
   ],
   "source": [
    "q1.solution()"
   ]
  },
  {
   "cell_type": "markdown",
   "id": "9bfe1953",
   "metadata": {
    "papermill": {
     "duration": 0.009524,
     "end_time": "2022-08-26T03:43:56.056580",
     "exception": false,
     "start_time": "2022-08-26T03:43:56.047056",
     "status": "completed"
    },
    "tags": []
   },
   "source": [
    "# 2.\n",
    "\n",
    "We've decided to add \"logging\" to our `to_smash` function from the previous exercise."
   ]
  },
  {
   "cell_type": "code",
   "execution_count": 4,
   "id": "3ecc732d",
   "metadata": {
    "execution": {
     "iopub.execute_input": "2022-08-26T03:43:56.079540Z",
     "iopub.status.busy": "2022-08-26T03:43:56.078788Z",
     "iopub.status.idle": "2022-08-26T03:43:56.087200Z",
     "shell.execute_reply": "2022-08-26T03:43:56.086440Z"
    },
    "papermill": {
     "duration": 0.022597,
     "end_time": "2022-08-26T03:43:56.090111",
     "exception": false,
     "start_time": "2022-08-26T03:43:56.067514",
     "status": "completed"
    },
    "tags": []
   },
   "outputs": [
    {
     "name": "stdout",
     "output_type": "stream",
     "text": [
      "Splitting 91 candies\n"
     ]
    },
    {
     "data": {
      "text/plain": [
       "1"
      ]
     },
     "execution_count": 4,
     "metadata": {},
     "output_type": "execute_result"
    }
   ],
   "source": [
    "def to_smash(total_candies):\n",
    "    \"\"\"Return the number of leftover candies that must be smashed after distributing\n",
    "    the given number of candies evenly between 3 friends.\n",
    "    \n",
    "    >>> to_smash(91)\n",
    "    1\n",
    "    \"\"\"\n",
    "    print(\"Splitting\", total_candies, \"candies\")\n",
    "    return total_candies % 3\n",
    "\n",
    "to_smash(91)"
   ]
  },
  {
   "cell_type": "markdown",
   "id": "bded989c",
   "metadata": {
    "papermill": {
     "duration": 0.009813,
     "end_time": "2022-08-26T03:43:56.109817",
     "exception": false,
     "start_time": "2022-08-26T03:43:56.100004",
     "status": "completed"
    },
    "tags": []
   },
   "source": [
    "What happens if we call it with `total_candies = 1`?"
   ]
  },
  {
   "cell_type": "code",
   "execution_count": 5,
   "id": "a2e5a55c",
   "metadata": {
    "execution": {
     "iopub.execute_input": "2022-08-26T03:43:56.132428Z",
     "iopub.status.busy": "2022-08-26T03:43:56.131610Z",
     "iopub.status.idle": "2022-08-26T03:43:56.139355Z",
     "shell.execute_reply": "2022-08-26T03:43:56.137815Z"
    },
    "papermill": {
     "duration": 0.02192,
     "end_time": "2022-08-26T03:43:56.142126",
     "exception": false,
     "start_time": "2022-08-26T03:43:56.120206",
     "status": "completed"
    },
    "tags": []
   },
   "outputs": [
    {
     "name": "stdout",
     "output_type": "stream",
     "text": [
      "Splitting 1 candies\n"
     ]
    },
    {
     "data": {
      "text/plain": [
       "1"
      ]
     },
     "execution_count": 5,
     "metadata": {},
     "output_type": "execute_result"
    }
   ],
   "source": [
    "to_smash(1)"
   ]
  },
  {
   "cell_type": "markdown",
   "id": "eb50281e",
   "metadata": {
    "papermill": {
     "duration": 0.009697,
     "end_time": "2022-08-26T03:43:56.162531",
     "exception": false,
     "start_time": "2022-08-26T03:43:56.152834",
     "status": "completed"
    },
    "tags": []
   },
   "source": [
    "That isn't great grammar!\n",
    "\n",
    "Modify the definition in the cell below to correct the grammar of our print statement. (If there's only one candy, we should use the singular \"candy\" instead of the plural \"candies\")"
   ]
  },
  {
   "cell_type": "code",
   "execution_count": 6,
   "id": "bb178ef7",
   "metadata": {
    "execution": {
     "iopub.execute_input": "2022-08-26T03:43:56.184632Z",
     "iopub.status.busy": "2022-08-26T03:43:56.184161Z",
     "iopub.status.idle": "2022-08-26T03:43:56.193846Z",
     "shell.execute_reply": "2022-08-26T03:43:56.192558Z"
    },
    "papermill": {
     "duration": 0.024544,
     "end_time": "2022-08-26T03:43:56.197263",
     "exception": false,
     "start_time": "2022-08-26T03:43:56.172719",
     "status": "completed"
    },
    "tags": []
   },
   "outputs": [
    {
     "name": "stdout",
     "output_type": "stream",
     "text": [
      "Splitting 91 candies\n",
      "Splitting 1 candy\n"
     ]
    },
    {
     "data": {
      "text/plain": [
       "1"
      ]
     },
     "execution_count": 6,
     "metadata": {},
     "output_type": "execute_result"
    }
   ],
   "source": [
    "def to_smash(total_candies):\n",
    "    \"\"\"Return the number of leftover candies that must be smashed after distributing\n",
    "    the given number of candies evenly between 3 friends.\n",
    "    \n",
    "    >>> to_smash(91)\n",
    "    1\n",
    "    \"\"\"\n",
    "    if total_candies != 1:\n",
    "        print(\"Splitting\", total_candies, \"candies\")\n",
    "    else:\n",
    "        print(\"Splitting\", total_candies, \"candy\")\n",
    "    return total_candies % 3\n",
    "\n",
    "to_smash(91)\n",
    "to_smash(1)"
   ]
  },
  {
   "cell_type": "markdown",
   "id": "75ef55de",
   "metadata": {
    "papermill": {
     "duration": 0.009837,
     "end_time": "2022-08-26T03:43:56.217952",
     "exception": false,
     "start_time": "2022-08-26T03:43:56.208115",
     "status": "completed"
    },
    "tags": []
   },
   "source": [
    "To get credit for completing this problem, and to see the official answer, run the code cell below."
   ]
  },
  {
   "cell_type": "code",
   "execution_count": 7,
   "id": "789c04de",
   "metadata": {
    "execution": {
     "iopub.execute_input": "2022-08-26T03:43:56.240370Z",
     "iopub.status.busy": "2022-08-26T03:43:56.239783Z",
     "iopub.status.idle": "2022-08-26T03:43:56.248686Z",
     "shell.execute_reply": "2022-08-26T03:43:56.247802Z"
    },
    "papermill": {
     "duration": 0.022878,
     "end_time": "2022-08-26T03:43:56.251013",
     "exception": false,
     "start_time": "2022-08-26T03:43:56.228135",
     "status": "completed"
    },
    "tags": []
   },
   "outputs": [
    {
     "data": {
      "application/javascript": [
       "parent.postMessage({\"jupyterEvent\": \"custom.exercise_interaction\", \"data\": {\"interactionType\": 3, \"questionType\": 4, \"questionId\": \"2_PluralizationProblem\", \"learnToolsVersion\": \"0.3.4\", \"valueTowardsCompletion\": 0.0, \"failureMessage\": \"\", \"exceptionClass\": \"\", \"trace\": \"\", \"outcomeType\": 4}}, \"*\")"
      ],
      "text/plain": [
       "<IPython.core.display.Javascript object>"
      ]
     },
     "metadata": {},
     "output_type": "display_data"
    },
    {
     "data": {
      "text/markdown": [
       "<span style=\"color:#33cc99\">Solution:</span> A straightforward (and totally fine) solution is to replace the original `print` call with:\n",
       "\n",
       "```python\n",
       "if total_candies == 1:\n",
       "    print(\"Splitting 1 candy\")\n",
       "else:\n",
       "    print(\"Splitting\", total_candies, \"candies\")\n",
       "```\n",
       "\n",
       "Here's a slightly more succinct solution using a conditional expression:\n",
       "\n",
       "```python\n",
       "print(\"Splitting\", total_candies, \"candy\" if total_candies == 1 else \"candies\")\n",
       "```"
      ],
      "text/plain": [
       "Solution: A straightforward (and totally fine) solution is to replace the original `print` call with:\n",
       "\n",
       "```python\n",
       "if total_candies == 1:\n",
       "    print(\"Splitting 1 candy\")\n",
       "else:\n",
       "    print(\"Splitting\", total_candies, \"candies\")\n",
       "```\n",
       "\n",
       "Here's a slightly more succinct solution using a conditional expression:\n",
       "\n",
       "```python\n",
       "print(\"Splitting\", total_candies, \"candy\" if total_candies == 1 else \"candies\")\n",
       "```"
      ]
     },
     "metadata": {},
     "output_type": "display_data"
    }
   ],
   "source": [
    "# Check your answer (Run this code cell to receive credit!)\n",
    "q2.solution()"
   ]
  },
  {
   "cell_type": "markdown",
   "id": "0915a97f",
   "metadata": {
    "papermill": {
     "duration": 0.010309,
     "end_time": "2022-08-26T03:43:56.272241",
     "exception": false,
     "start_time": "2022-08-26T03:43:56.261932",
     "status": "completed"
    },
    "tags": []
   },
   "source": [
    "# 3. <span title=\"A bit spicy\" style=\"color: darkgreen \">🌶️</span>\n",
    "\n",
    "In the tutorial, we talked about deciding whether we're prepared for the weather. I said that I'm safe from today's weather if...\n",
    "- I have an umbrella...\n",
    "- or if the rain isn't too heavy and I have a hood...\n",
    "- otherwise, I'm still fine unless it's raining *and* it's a workday\n",
    "\n",
    "The function below uses our first attempt at turning this logic into a Python expression. I claimed that there was a bug in that code. Can you find it?\n",
    "\n",
    "To prove that `prepared_for_weather` is buggy, come up with a set of inputs where either:\n",
    "- the function returns `False` (but should have returned `True`), or\n",
    "- the function returned `True` (but should have returned `False`).\n",
    "\n",
    "To get credit for completing this question, your code should return a <font color='#33cc33'>Correct</font> result."
   ]
  },
  {
   "cell_type": "code",
   "execution_count": 8,
   "id": "40ea4df4",
   "metadata": {
    "execution": {
     "iopub.execute_input": "2022-08-26T03:43:56.295384Z",
     "iopub.status.busy": "2022-08-26T03:43:56.294905Z",
     "iopub.status.idle": "2022-08-26T03:43:56.307542Z",
     "shell.execute_reply": "2022-08-26T03:43:56.306213Z"
    },
    "papermill": {
     "duration": 0.026934,
     "end_time": "2022-08-26T03:43:56.309701",
     "exception": false,
     "start_time": "2022-08-26T03:43:56.282767",
     "status": "completed"
    },
    "tags": []
   },
   "outputs": [
    {
     "name": "stdout",
     "output_type": "stream",
     "text": [
      "False\n"
     ]
    },
    {
     "data": {
      "application/javascript": [
       "parent.postMessage({\"jupyterEvent\": \"custom.exercise_interaction\", \"data\": {\"outcomeType\": 1, \"valueTowardsCompletion\": 0.2, \"interactionType\": 1, \"questionType\": 1, \"questionId\": \"3_WeatherDebug\", \"learnToolsVersion\": \"0.3.4\", \"failureMessage\": \"\", \"exceptionClass\": \"\", \"trace\": \"\"}}, \"*\")"
      ],
      "text/plain": [
       "<IPython.core.display.Javascript object>"
      ]
     },
     "metadata": {},
     "output_type": "display_data"
    },
    {
     "data": {
      "text/markdown": [
       "<span style=\"color:#33cc33\">Correct:</span> \n",
       "\n",
       "One example of a failing test case is:\n",
       "\n",
       "```python\n",
       "have_umbrella = False\n",
       "rain_level = 0.0\n",
       "have_hood = False\n",
       "is_workday = False\n",
       "```\n",
       "\n",
       "Clearly we're prepared for the weather in this case. It's not raining. Not only that, it's not a workday, so we don't even need to leave the house! But our function will return False on these inputs.\n",
       "\n",
       "The key problem is that Python implictly parenthesizes the last part as:\n",
       "\n",
       "```python\n",
       "(not (rain_level > 0)) and is_workday\n",
       "```\n",
       "\n",
       "Whereas what we were trying to express would look more like:\n",
       "\n",
       "```python\n",
       "not (rain_level > 0 and is_workday)\n",
       "```\n"
      ],
      "text/plain": [
       "Correct: \n",
       "\n",
       "One example of a failing test case is:\n",
       "\n",
       "```python\n",
       "have_umbrella = False\n",
       "rain_level = 0.0\n",
       "have_hood = False\n",
       "is_workday = False\n",
       "```\n",
       "\n",
       "Clearly we're prepared for the weather in this case. It's not raining. Not only that, it's not a workday, so we don't even need to leave the house! But our function will return False on these inputs.\n",
       "\n",
       "The key problem is that Python implictly parenthesizes the last part as:\n",
       "\n",
       "```python\n",
       "(not (rain_level > 0)) and is_workday\n",
       "```\n",
       "\n",
       "Whereas what we were trying to express would look more like:\n",
       "\n",
       "```python\n",
       "not (rain_level > 0 and is_workday)\n",
       "```"
      ]
     },
     "metadata": {},
     "output_type": "display_data"
    }
   ],
   "source": [
    "def prepared_for_weather(have_umbrella, rain_level, have_hood, is_workday):\n",
    "    # Don't change this code. Our goal is just to find the bug, not fix it!\n",
    "    return have_umbrella or rain_level < 5 and have_hood or not rain_level > 0 and is_workday\n",
    "\n",
    "# Change the values of these inputs so they represent a case where prepared_for_weather\n",
    "# returns the wrong answer.\n",
    "have_umbrella = False\n",
    "rain_level = 5\n",
    "have_hood = False\n",
    "is_workday = False\n",
    "\n",
    "# Check what the function returns given the current values of the variables above\n",
    "actual = prepared_for_weather(have_umbrella, rain_level, have_hood, is_workday)\n",
    "print(actual)\n",
    "\n",
    "# Check your answer\n",
    "q3.check()"
   ]
  },
  {
   "cell_type": "code",
   "execution_count": 9,
   "id": "ea061daf",
   "metadata": {
    "execution": {
     "iopub.execute_input": "2022-08-26T03:43:56.332522Z",
     "iopub.status.busy": "2022-08-26T03:43:56.332066Z",
     "iopub.status.idle": "2022-08-26T03:43:56.337244Z",
     "shell.execute_reply": "2022-08-26T03:43:56.335956Z"
    },
    "papermill": {
     "duration": 0.02003,
     "end_time": "2022-08-26T03:43:56.340322",
     "exception": false,
     "start_time": "2022-08-26T03:43:56.320292",
     "status": "completed"
    },
    "tags": []
   },
   "outputs": [],
   "source": [
    "#q3.hint()\n",
    "#q3.solution()"
   ]
  },
  {
   "cell_type": "markdown",
   "id": "1fc12326",
   "metadata": {
    "papermill": {
     "duration": 0.010126,
     "end_time": "2022-08-26T03:43:56.361081",
     "exception": false,
     "start_time": "2022-08-26T03:43:56.350955",
     "status": "completed"
    },
    "tags": []
   },
   "source": [
    "# 4.\n",
    "\n",
    "The function `is_negative` below is implemented correctly - it returns True if the given number is negative and False otherwise.\n",
    "\n",
    "However, it's more verbose than it needs to be. We can actually reduce the number of lines of code in this function by *75%* while keeping the same behaviour. \n",
    "\n",
    "See if you can come up with an equivalent body that uses just **one line** of code, and put it in the function `concise_is_negative`. (HINT: you don't even need Python's ternary syntax)"
   ]
  },
  {
   "cell_type": "code",
   "execution_count": 10,
   "id": "a389b145",
   "metadata": {
    "execution": {
     "iopub.execute_input": "2022-08-26T03:43:56.384792Z",
     "iopub.status.busy": "2022-08-26T03:43:56.384381Z",
     "iopub.status.idle": "2022-08-26T03:43:56.394200Z",
     "shell.execute_reply": "2022-08-26T03:43:56.392322Z"
    },
    "papermill": {
     "duration": 0.025549,
     "end_time": "2022-08-26T03:43:56.397360",
     "exception": false,
     "start_time": "2022-08-26T03:43:56.371811",
     "status": "completed"
    },
    "tags": []
   },
   "outputs": [
    {
     "data": {
      "application/javascript": [
       "parent.postMessage({\"jupyterEvent\": \"custom.exercise_interaction\", \"data\": {\"outcomeType\": 1, \"valueTowardsCompletion\": 0.2, \"interactionType\": 1, \"questionType\": 2, \"questionId\": \"4_ConciseIsNegative\", \"learnToolsVersion\": \"0.3.4\", \"failureMessage\": \"\", \"exceptionClass\": \"\", \"trace\": \"\"}}, \"*\")"
      ],
      "text/plain": [
       "<IPython.core.display.Javascript object>"
      ]
     },
     "metadata": {},
     "output_type": "display_data"
    },
    {
     "data": {
      "text/markdown": [
       "<span style=\"color:#33cc33\">Correct</span>"
      ],
      "text/plain": [
       "Correct"
      ]
     },
     "metadata": {},
     "output_type": "display_data"
    }
   ],
   "source": [
    "def is_negative(number):\n",
    "    if number < 0:\n",
    "        return True\n",
    "    else:\n",
    "        return False\n",
    "\n",
    "def concise_is_negative(number):\n",
    "    return True if number < 0 else False # Your code goes here (try to keep it to one line!)\n",
    "\n",
    "# Check your answer\n",
    "q4.check()"
   ]
  },
  {
   "cell_type": "code",
   "execution_count": 11,
   "id": "502861c3",
   "metadata": {
    "execution": {
     "iopub.execute_input": "2022-08-26T03:43:56.424033Z",
     "iopub.status.busy": "2022-08-26T03:43:56.422700Z",
     "iopub.status.idle": "2022-08-26T03:43:56.428025Z",
     "shell.execute_reply": "2022-08-26T03:43:56.426792Z"
    },
    "papermill": {
     "duration": 0.020627,
     "end_time": "2022-08-26T03:43:56.430378",
     "exception": false,
     "start_time": "2022-08-26T03:43:56.409751",
     "status": "completed"
    },
    "tags": []
   },
   "outputs": [],
   "source": [
    "#q4.hint()\n",
    "#q4.solution()"
   ]
  },
  {
   "cell_type": "markdown",
   "id": "1c681cd3",
   "metadata": {
    "papermill": {
     "duration": 0.011212,
     "end_time": "2022-08-26T03:43:56.453640",
     "exception": false,
     "start_time": "2022-08-26T03:43:56.442428",
     "status": "completed"
    },
    "tags": []
   },
   "source": [
    "# 5a.\n",
    "\n",
    "The boolean variables `ketchup`, `mustard` and `onion` represent whether a customer wants a particular topping on their hot dog. We want to implement a number of boolean functions that correspond to some yes-or-no questions about the customer's order. For example:"
   ]
  },
  {
   "cell_type": "code",
   "execution_count": 12,
   "id": "53db322c",
   "metadata": {
    "execution": {
     "iopub.execute_input": "2022-08-26T03:43:56.477521Z",
     "iopub.status.busy": "2022-08-26T03:43:56.476559Z",
     "iopub.status.idle": "2022-08-26T03:43:56.482690Z",
     "shell.execute_reply": "2022-08-26T03:43:56.481350Z"
    },
    "papermill": {
     "duration": 0.020665,
     "end_time": "2022-08-26T03:43:56.485186",
     "exception": false,
     "start_time": "2022-08-26T03:43:56.464521",
     "status": "completed"
    },
    "tags": []
   },
   "outputs": [],
   "source": [
    "def onionless(ketchup, mustard, onion):\n",
    "    \"\"\"Return whether the customer doesn't want onions.\n",
    "    \"\"\"\n",
    "    return not onion"
   ]
  },
  {
   "cell_type": "code",
   "execution_count": 13,
   "id": "458dfdc5",
   "metadata": {
    "execution": {
     "iopub.execute_input": "2022-08-26T03:43:56.508763Z",
     "iopub.status.busy": "2022-08-26T03:43:56.508387Z",
     "iopub.status.idle": "2022-08-26T03:43:56.517684Z",
     "shell.execute_reply": "2022-08-26T03:43:56.516535Z"
    },
    "papermill": {
     "duration": 0.023826,
     "end_time": "2022-08-26T03:43:56.519905",
     "exception": false,
     "start_time": "2022-08-26T03:43:56.496079",
     "status": "completed"
    },
    "tags": []
   },
   "outputs": [
    {
     "data": {
      "application/javascript": [
       "parent.postMessage({\"jupyterEvent\": \"custom.exercise_interaction\", \"data\": {\"outcomeType\": 1, \"valueTowardsCompletion\": 0.2, \"interactionType\": 1, \"questionType\": 2, \"questionId\": \"5.1_AllToppings\", \"learnToolsVersion\": \"0.3.4\", \"failureMessage\": \"\", \"exceptionClass\": \"\", \"trace\": \"\"}}, \"*\")"
      ],
      "text/plain": [
       "<IPython.core.display.Javascript object>"
      ]
     },
     "metadata": {},
     "output_type": "display_data"
    },
    {
     "data": {
      "text/markdown": [
       "<span style=\"color:#33cc33\">Correct</span>"
      ],
      "text/plain": [
       "Correct"
      ]
     },
     "metadata": {},
     "output_type": "display_data"
    }
   ],
   "source": [
    "def wants_all_toppings(ketchup, mustard, onion):\n",
    "    \"\"\"Return whether the customer wants \"the works\" (all 3 toppings)\n",
    "    \"\"\"\n",
    "    return bool(ketchup * mustard * onion)\n",
    "\n",
    "# Check your answer\n",
    "q5.a.check()"
   ]
  },
  {
   "cell_type": "code",
   "execution_count": 14,
   "id": "8f9dd23c",
   "metadata": {
    "execution": {
     "iopub.execute_input": "2022-08-26T03:43:56.544922Z",
     "iopub.status.busy": "2022-08-26T03:43:56.543725Z",
     "iopub.status.idle": "2022-08-26T03:43:56.548281Z",
     "shell.execute_reply": "2022-08-26T03:43:56.547465Z"
    },
    "papermill": {
     "duration": 0.019298,
     "end_time": "2022-08-26T03:43:56.550501",
     "exception": false,
     "start_time": "2022-08-26T03:43:56.531203",
     "status": "completed"
    },
    "tags": []
   },
   "outputs": [],
   "source": [
    "#q5.a.hint()\n",
    "#q5.a.solution()"
   ]
  },
  {
   "cell_type": "markdown",
   "id": "2b0d858b",
   "metadata": {
    "papermill": {
     "duration": 0.011628,
     "end_time": "2022-08-26T03:43:56.573767",
     "exception": false,
     "start_time": "2022-08-26T03:43:56.562139",
     "status": "completed"
    },
    "tags": []
   },
   "source": [
    "# 5b.\n",
    "\n",
    "For the next function, fill in the body to match the English description in the docstring. "
   ]
  },
  {
   "cell_type": "code",
   "execution_count": 15,
   "id": "a995a391",
   "metadata": {
    "execution": {
     "iopub.execute_input": "2022-08-26T03:43:56.598283Z",
     "iopub.status.busy": "2022-08-26T03:43:56.597820Z",
     "iopub.status.idle": "2022-08-26T03:43:56.608461Z",
     "shell.execute_reply": "2022-08-26T03:43:56.606950Z"
    },
    "papermill": {
     "duration": 0.030612,
     "end_time": "2022-08-26T03:43:56.615878",
     "exception": false,
     "start_time": "2022-08-26T03:43:56.585266",
     "status": "completed"
    },
    "tags": []
   },
   "outputs": [
    {
     "data": {
      "application/javascript": [
       "parent.postMessage({\"jupyterEvent\": \"custom.exercise_interaction\", \"data\": {\"outcomeType\": 1, \"valueTowardsCompletion\": 0.2, \"interactionType\": 1, \"questionType\": 2, \"questionId\": \"5.2_PlainDog\", \"learnToolsVersion\": \"0.3.4\", \"failureMessage\": \"\", \"exceptionClass\": \"\", \"trace\": \"\"}}, \"*\")"
      ],
      "text/plain": [
       "<IPython.core.display.Javascript object>"
      ]
     },
     "metadata": {},
     "output_type": "display_data"
    },
    {
     "data": {
      "text/markdown": [
       "<span style=\"color:#33cc33\">Correct:</span> \n",
       "\n",
       "One solution looks like:\n",
       "```python\n",
       "return not ketchup and not mustard and not onion\n",
       "```\n",
       "\n",
       "We can also [\"factor out\" the nots](https://en.wikipedia.org/wiki/De_Morgan%27s_laws) to get:\n",
       "\n",
       "```python\n",
       "return not (ketchup or mustard or onion)\n",
       "```"
      ],
      "text/plain": [
       "Correct: \n",
       "\n",
       "One solution looks like:\n",
       "```python\n",
       "return not ketchup and not mustard and not onion\n",
       "```\n",
       "\n",
       "We can also [\"factor out\" the nots](https://en.wikipedia.org/wiki/De_Morgan%27s_laws) to get:\n",
       "\n",
       "```python\n",
       "return not (ketchup or mustard or onion)\n",
       "```"
      ]
     },
     "metadata": {},
     "output_type": "display_data"
    }
   ],
   "source": [
    "def wants_plain_hotdog(ketchup, mustard, onion):\n",
    "    \"\"\"Return whether the customer wants a plain hot dog with no toppings.\n",
    "    \"\"\"\n",
    "    return bool((not ketchup) * (not mustard) * (not onion))\n",
    "\n",
    "# Check your answer\n",
    "q5.b.check()"
   ]
  },
  {
   "cell_type": "code",
   "execution_count": 16,
   "id": "3027f04d",
   "metadata": {
    "execution": {
     "iopub.execute_input": "2022-08-26T03:43:56.648343Z",
     "iopub.status.busy": "2022-08-26T03:43:56.647809Z",
     "iopub.status.idle": "2022-08-26T03:43:56.652971Z",
     "shell.execute_reply": "2022-08-26T03:43:56.651435Z"
    },
    "papermill": {
     "duration": 0.025628,
     "end_time": "2022-08-26T03:43:56.656118",
     "exception": false,
     "start_time": "2022-08-26T03:43:56.630490",
     "status": "completed"
    },
    "tags": []
   },
   "outputs": [],
   "source": [
    "#q5.b.hint()\n",
    "#q5.b.solution()"
   ]
  },
  {
   "cell_type": "markdown",
   "id": "a0928b9f",
   "metadata": {
    "papermill": {
     "duration": 0.01466,
     "end_time": "2022-08-26T03:43:56.689197",
     "exception": false,
     "start_time": "2022-08-26T03:43:56.674537",
     "status": "completed"
    },
    "tags": []
   },
   "source": [
    "# 5c.\n",
    "\n",
    "You know what to do: for the next function, fill in the body to match the English description in the docstring."
   ]
  },
  {
   "cell_type": "code",
   "execution_count": 17,
   "id": "6b6e315a",
   "metadata": {
    "execution": {
     "iopub.execute_input": "2022-08-26T03:43:56.722955Z",
     "iopub.status.busy": "2022-08-26T03:43:56.722134Z",
     "iopub.status.idle": "2022-08-26T03:43:56.730565Z",
     "shell.execute_reply": "2022-08-26T03:43:56.729732Z"
    },
    "papermill": {
     "duration": 0.029032,
     "end_time": "2022-08-26T03:43:56.732795",
     "exception": false,
     "start_time": "2022-08-26T03:43:56.703763",
     "status": "completed"
    },
    "tags": []
   },
   "outputs": [
    {
     "data": {
      "application/javascript": [
       "parent.postMessage({\"jupyterEvent\": \"custom.exercise_interaction\", \"data\": {\"outcomeType\": 1, \"valueTowardsCompletion\": 0.2, \"interactionType\": 1, \"questionType\": 2, \"questionId\": \"5.3_OneSauce\", \"learnToolsVersion\": \"0.3.4\", \"failureMessage\": \"\", \"exceptionClass\": \"\", \"trace\": \"\"}}, \"*\")"
      ],
      "text/plain": [
       "<IPython.core.display.Javascript object>"
      ]
     },
     "metadata": {},
     "output_type": "display_data"
    },
    {
     "data": {
      "text/markdown": [
       "<span style=\"color:#33cc33\">Correct</span>"
      ],
      "text/plain": [
       "Correct"
      ]
     },
     "metadata": {},
     "output_type": "display_data"
    }
   ],
   "source": [
    "def exactly_one_sauce(ketchup, mustard, onion):\n",
    "    \"\"\"Return whether the customer wants either ketchup or mustard, but not both.\n",
    "    (You may be familiar with this operation under the name \"exclusive or\")\n",
    "    \"\"\"\n",
    "    return ketchup ^ mustard\n",
    "\n",
    "# Check your answer\n",
    "q5.c.check()"
   ]
  },
  {
   "cell_type": "code",
   "execution_count": 18,
   "id": "ce325cb2",
   "metadata": {
    "execution": {
     "iopub.execute_input": "2022-08-26T03:43:56.759830Z",
     "iopub.status.busy": "2022-08-26T03:43:56.759363Z",
     "iopub.status.idle": "2022-08-26T03:43:56.763731Z",
     "shell.execute_reply": "2022-08-26T03:43:56.762592Z"
    },
    "papermill": {
     "duration": 0.020764,
     "end_time": "2022-08-26T03:43:56.765890",
     "exception": false,
     "start_time": "2022-08-26T03:43:56.745126",
     "status": "completed"
    },
    "tags": []
   },
   "outputs": [],
   "source": [
    "#q5.c.hint()\n",
    "#q5.c.solution()"
   ]
  },
  {
   "cell_type": "markdown",
   "id": "766646d7",
   "metadata": {
    "papermill": {
     "duration": 0.011938,
     "end_time": "2022-08-26T03:43:56.790207",
     "exception": false,
     "start_time": "2022-08-26T03:43:56.778269",
     "status": "completed"
    },
    "tags": []
   },
   "source": [
    "# 6. <span title=\"A bit spicy\" style=\"color: darkgreen \">🌶️</span>\n",
    "\n",
    "We’ve seen that calling `bool()` on an integer returns `False` if it’s equal to 0 and `True` otherwise. What happens if we call `int()` on a bool? Try it out in the notebook cell below.\n",
    "\n",
    "Can you take advantage of this to write a succinct function that corresponds to the English sentence \"does the customer want exactly one topping?\"?"
   ]
  },
  {
   "cell_type": "code",
   "execution_count": 19,
   "id": "6f13fc7f",
   "metadata": {
    "execution": {
     "iopub.execute_input": "2022-08-26T03:43:56.817885Z",
     "iopub.status.busy": "2022-08-26T03:43:56.816736Z",
     "iopub.status.idle": "2022-08-26T03:43:56.827520Z",
     "shell.execute_reply": "2022-08-26T03:43:56.826720Z"
    },
    "papermill": {
     "duration": 0.026643,
     "end_time": "2022-08-26T03:43:56.829720",
     "exception": false,
     "start_time": "2022-08-26T03:43:56.803077",
     "status": "completed"
    },
    "tags": []
   },
   "outputs": [
    {
     "data": {
      "application/javascript": [
       "parent.postMessage({\"jupyterEvent\": \"custom.exercise_interaction\", \"data\": {\"outcomeType\": 1, \"valueTowardsCompletion\": 0.2, \"interactionType\": 1, \"questionType\": 2, \"questionId\": \"6_OneTopping\", \"learnToolsVersion\": \"0.3.4\", \"failureMessage\": \"\", \"exceptionClass\": \"\", \"trace\": \"\"}}, \"*\")"
      ],
      "text/plain": [
       "<IPython.core.display.Javascript object>"
      ]
     },
     "metadata": {},
     "output_type": "display_data"
    },
    {
     "data": {
      "text/markdown": [
       "<span style=\"color:#33cc33\">Correct:</span> \n",
       "\n",
       "This condition would be pretty complicated to express using just `and`, `or` and `not`, but using boolean-to-integer conversion gives us this short solution:\n",
       "```python\n",
       "return (int(ketchup) + int(mustard) + int(onion)) == 1\n",
       "```\n",
       "\n",
       "Fun fact: we don't technically need to call `int` on the arguments. Just by doing addition with booleans, Python implicitly does the integer conversion. So we could also write...\n",
       "\n",
       "```python\n",
       "return (ketchup + mustard + onion) == 1\n",
       "```"
      ],
      "text/plain": [
       "Correct: \n",
       "\n",
       "This condition would be pretty complicated to express using just `and`, `or` and `not`, but using boolean-to-integer conversion gives us this short solution:\n",
       "```python\n",
       "return (int(ketchup) + int(mustard) + int(onion)) == 1\n",
       "```\n",
       "\n",
       "Fun fact: we don't technically need to call `int` on the arguments. Just by doing addition with booleans, Python implicitly does the integer conversion. So we could also write...\n",
       "\n",
       "```python\n",
       "return (ketchup + mustard + onion) == 1\n",
       "```"
      ]
     },
     "metadata": {},
     "output_type": "display_data"
    }
   ],
   "source": [
    "def exactly_one_topping(ketchup, mustard, onion):\n",
    "    \"\"\"Return whether the customer wants exactly one of the three available toppings\n",
    "    on their hot dog.\n",
    "    \"\"\"\n",
    "    return True if ketchup + mustard + onion == 1 else 0\n",
    "\n",
    "# Check your answer\n",
    "q6.check()"
   ]
  },
  {
   "cell_type": "code",
   "execution_count": 20,
   "id": "9392907b",
   "metadata": {
    "execution": {
     "iopub.execute_input": "2022-08-26T03:43:56.855606Z",
     "iopub.status.busy": "2022-08-26T03:43:56.854888Z",
     "iopub.status.idle": "2022-08-26T03:43:56.859495Z",
     "shell.execute_reply": "2022-08-26T03:43:56.858567Z"
    },
    "papermill": {
     "duration": 0.020078,
     "end_time": "2022-08-26T03:43:56.861835",
     "exception": false,
     "start_time": "2022-08-26T03:43:56.841757",
     "status": "completed"
    },
    "tags": []
   },
   "outputs": [],
   "source": [
    "#q6.hint()\n",
    "#q6.solution()"
   ]
  },
  {
   "cell_type": "markdown",
   "id": "02ce5ace",
   "metadata": {
    "papermill": {
     "duration": 0.011621,
     "end_time": "2022-08-26T03:43:56.885432",
     "exception": false,
     "start_time": "2022-08-26T03:43:56.873811",
     "status": "completed"
    },
    "tags": []
   },
   "source": [
    "# 7. <span title=\"A bit spicy\" style=\"color: darkgreen \">🌶️</span> (Optional)\n",
    "\n",
    "In this problem we'll be working with a simplified version of [blackjack](https://en.wikipedia.org/wiki/Blackjack) (aka twenty-one). In this version there is one player (who you'll control) and a dealer. Play proceeds as follows:\n",
    "\n",
    "- The player is dealt two face-up cards. The dealer is dealt one face-up card.\n",
    "- The player may ask to be dealt another card ('hit') as many times as they wish. If the sum of their cards exceeds 21, they lose the round immediately.\n",
    "- The dealer then deals additional cards to himself until either:\n",
    "    - the sum of the dealer's cards exceeds 21, in which case the player wins the round\n",
    "    - the sum of the dealer's cards is greater than or equal to 17. If the player's total is greater than the dealer's, the player wins. Otherwise, the dealer wins (even in case of a tie).\n",
    "    \n",
    "When calculating the sum of cards, Jack, Queen, and King count for 10. Aces can count as 1 or 11 (when referring to a player's \"total\" above, we mean the largest total that can be made without exceeding 21. So e.g. A+8 = 19, A+8+8 = 17)\n",
    "\n",
    "For this problem, you'll write a function representing the player's decision-making strategy in this game. We've provided a very unintelligent implementation below:"
   ]
  },
  {
   "cell_type": "code",
   "execution_count": 21,
   "id": "63daed78",
   "metadata": {
    "execution": {
     "iopub.execute_input": "2022-08-26T03:43:56.911934Z",
     "iopub.status.busy": "2022-08-26T03:43:56.910902Z",
     "iopub.status.idle": "2022-08-26T03:43:56.917091Z",
     "shell.execute_reply": "2022-08-26T03:43:56.915875Z"
    },
    "papermill": {
     "duration": 0.022462,
     "end_time": "2022-08-26T03:43:56.919725",
     "exception": false,
     "start_time": "2022-08-26T03:43:56.897263",
     "status": "completed"
    },
    "tags": []
   },
   "outputs": [],
   "source": [
    "def should_hit(dealer_total, player_total, player_low_aces, player_high_aces):\n",
    "    \"\"\"Return True if the player should hit (request another card) given the current game\n",
    "    state, or False if the player should stay.\n",
    "    When calculating a hand's total value, we count aces as \"high\" (with value 11) if doing so\n",
    "    doesn't bring the total above 21, otherwise we count them as low (with value 1). \n",
    "    For example, if the player's hand is {A, A, A, 7}, we will count it as 11 + 1 + 1 + 7,\n",
    "    and therefore set player_total=20, player_low_aces=2, player_high_aces=1.\n",
    "    \"\"\"\n",
    "    return False"
   ]
  },
  {
   "cell_type": "markdown",
   "id": "909d4e0a",
   "metadata": {
    "papermill": {
     "duration": 0.012315,
     "end_time": "2022-08-26T03:43:56.944768",
     "exception": false,
     "start_time": "2022-08-26T03:43:56.932453",
     "status": "completed"
    },
    "tags": []
   },
   "source": [
    "This very conservative agent *always* sticks with the hand of two cards that they're dealt.\n",
    "\n",
    "We'll be simulating games between your player agent and our own dealer agent by calling your function.\n",
    "\n",
    "Try running the function below to see an example of a simulated game:"
   ]
  },
  {
   "cell_type": "code",
   "execution_count": 22,
   "id": "f89c6f2c",
   "metadata": {
    "execution": {
     "iopub.execute_input": "2022-08-26T03:43:56.972475Z",
     "iopub.status.busy": "2022-08-26T03:43:56.971448Z",
     "iopub.status.idle": "2022-08-26T03:43:56.979660Z",
     "shell.execute_reply": "2022-08-26T03:43:56.977691Z"
    },
    "papermill": {
     "duration": 0.024944,
     "end_time": "2022-08-26T03:43:56.982452",
     "exception": false,
     "start_time": "2022-08-26T03:43:56.957508",
     "status": "completed"
    },
    "tags": []
   },
   "outputs": [
    {
     "name": "stdout",
     "output_type": "stream",
     "text": [
      "Player starts with 10 and 3 (total = 13)\n",
      "Dealer starts with 2\n",
      "\n",
      "__Player's turn__\n",
      "Player stays\n",
      "\n",
      "__Dealer's turn__\n",
      "Dealer hits and receives 2. (total = 4)\n",
      "Dealer hits and receives Q. (total = 14)\n",
      "Dealer hits and receives 9. (total = 23)\n",
      "Dealer busts! Player wins.\n"
     ]
    }
   ],
   "source": [
    "q7.simulate_one_game()"
   ]
  },
  {
   "cell_type": "markdown",
   "id": "1e1687d4",
   "metadata": {
    "papermill": {
     "duration": 0.012779,
     "end_time": "2022-08-26T03:43:57.007555",
     "exception": false,
     "start_time": "2022-08-26T03:43:56.994776",
     "status": "completed"
    },
    "tags": []
   },
   "source": [
    "The real test of your agent's mettle is their average win rate over many games. Try calling the function below to simulate 50000 games of blackjack (it may take a couple seconds):"
   ]
  },
  {
   "cell_type": "code",
   "execution_count": 23,
   "id": "6780a1cc",
   "metadata": {
    "execution": {
     "iopub.execute_input": "2022-08-26T03:43:57.034420Z",
     "iopub.status.busy": "2022-08-26T03:43:57.033948Z",
     "iopub.status.idle": "2022-08-26T03:43:58.805624Z",
     "shell.execute_reply": "2022-08-26T03:43:58.804272Z"
    },
    "papermill": {
     "duration": 1.788168,
     "end_time": "2022-08-26T03:43:58.808312",
     "exception": false,
     "start_time": "2022-08-26T03:43:57.020144",
     "status": "completed"
    },
    "tags": []
   },
   "outputs": [
    {
     "name": "stdout",
     "output_type": "stream",
     "text": [
      "Player won 18997 out of 50000 games (win rate = 38.0%)\n"
     ]
    }
   ],
   "source": [
    "q7.simulate(n_games=50000)"
   ]
  },
  {
   "cell_type": "markdown",
   "id": "bbee18bb",
   "metadata": {
    "papermill": {
     "duration": 0.011839,
     "end_time": "2022-08-26T03:43:58.832693",
     "exception": false,
     "start_time": "2022-08-26T03:43:58.820854",
     "status": "completed"
    },
    "tags": []
   },
   "source": [
    "Our dumb agent that completely ignores the game state still manages to win shockingly often!\n",
    "\n",
    "Try adding some more smarts to the `should_hit` function and see how it affects the results."
   ]
  },
  {
   "cell_type": "code",
   "execution_count": 24,
   "id": "36e2be62",
   "metadata": {
    "execution": {
     "iopub.execute_input": "2022-08-26T03:43:58.859404Z",
     "iopub.status.busy": "2022-08-26T03:43:58.858188Z",
     "iopub.status.idle": "2022-08-26T03:44:00.499030Z",
     "shell.execute_reply": "2022-08-26T03:44:00.497401Z"
    },
    "papermill": {
     "duration": 1.658316,
     "end_time": "2022-08-26T03:44:00.503103",
     "exception": false,
     "start_time": "2022-08-26T03:43:58.844787",
     "status": "completed"
    },
    "tags": []
   },
   "outputs": [
    {
     "name": "stdout",
     "output_type": "stream",
     "text": [
      "Player won 19213 out of 50000 games (win rate = 38.4%)\n"
     ]
    }
   ],
   "source": [
    "def should_hit(dealer_total, player_total, player_low_aces, player_high_aces):\n",
    "    \"\"\"Return True if the player should hit (request another card) given the current game\n",
    "    state, or False if the player should stay.\n",
    "    When calculating a hand's total value, we count aces as \"high\" (with value 11) if doing so\n",
    "    doesn't bring the total above 21, otherwise we count them as low (with value 1). \n",
    "    For example, if the player's hand is {A, A, A, 7}, we will count it as 11 + 1 + 1 + 7,\n",
    "    and therefore set player_total=20, player_low_aces=2, player_high_aces=1.\n",
    "    \"\"\"\n",
    "    return False\n",
    "\n",
    "q7.simulate(n_games=50000)"
   ]
  },
  {
   "cell_type": "markdown",
   "id": "c143d259",
   "metadata": {
    "papermill": {
     "duration": 0.011811,
     "end_time": "2022-08-26T03:44:00.528144",
     "exception": false,
     "start_time": "2022-08-26T03:44:00.516333",
     "status": "completed"
    },
    "tags": []
   },
   "source": [
    "# Keep Going\n",
    "\n",
    "Learn about **[lists and tuples](https://www.kaggle.com/colinmorris/lists)** to handle multiple items of data in a systematic way."
   ]
  },
  {
   "cell_type": "markdown",
   "id": "2e347d95",
   "metadata": {
    "papermill": {
     "duration": 0.011688,
     "end_time": "2022-08-26T03:44:00.553148",
     "exception": false,
     "start_time": "2022-08-26T03:44:00.541460",
     "status": "completed"
    },
    "tags": []
   },
   "source": [
    "---\n",
    "\n",
    "\n",
    "\n",
    "\n",
    "*Have questions or comments? Visit the [course discussion forum](https://www.kaggle.com/learn/python/discussion) to chat with other learners.*"
   ]
  }
 ],
 "metadata": {
  "kernelspec": {
   "display_name": "Python 3",
   "language": "python",
   "name": "python3"
  },
  "language_info": {
   "codemirror_mode": {
    "name": "ipython",
    "version": 3
   },
   "file_extension": ".py",
   "mimetype": "text/x-python",
   "name": "python",
   "nbconvert_exporter": "python",
   "pygments_lexer": "ipython3",
   "version": "3.7.12"
  },
  "papermill": {
   "default_parameters": {},
   "duration": 15.461116,
   "end_time": "2022-08-26T03:44:01.489703",
   "environment_variables": {},
   "exception": null,
   "input_path": "__notebook__.ipynb",
   "output_path": "__notebook__.ipynb",
   "parameters": {},
   "start_time": "2022-08-26T03:43:46.028587",
   "version": "2.3.4"
  }
 },
 "nbformat": 4,
 "nbformat_minor": 5
}
