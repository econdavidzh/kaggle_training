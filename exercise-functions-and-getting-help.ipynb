{
 "cells": [
  {
   "cell_type": "markdown",
   "id": "b044c9a9",
   "metadata": {
    "papermill": {
     "duration": 0.006481,
     "end_time": "2022-08-26T03:26:26.986898",
     "exception": false,
     "start_time": "2022-08-26T03:26:26.980417",
     "status": "completed"
    },
    "tags": []
   },
   "source": [
    "**This notebook is an exercise in the [Python](https://www.kaggle.com/learn/python) course.  You can reference the tutorial at [this link](https://www.kaggle.com/colinmorris/functions-and-getting-help).**\n",
    "\n",
    "---\n"
   ]
  },
  {
   "cell_type": "markdown",
   "id": "b7274a22",
   "metadata": {
    "papermill": {
     "duration": 0.004624,
     "end_time": "2022-08-26T03:26:26.997035",
     "exception": false,
     "start_time": "2022-08-26T03:26:26.992411",
     "status": "completed"
    },
    "tags": []
   },
   "source": [
    "Functions are powerful. Try writing some yourself.\n",
    "\n",
    "As before, don't forget to run the setup code below before jumping into question 1."
   ]
  },
  {
   "cell_type": "code",
   "execution_count": 1,
   "id": "f480b847",
   "metadata": {
    "_kg_hide-input": true,
    "_kg_hide-output": true,
    "execution": {
     "iopub.execute_input": "2022-08-26T03:26:27.009896Z",
     "iopub.status.busy": "2022-08-26T03:26:27.008591Z",
     "iopub.status.idle": "2022-08-26T03:26:27.059921Z",
     "shell.execute_reply": "2022-08-26T03:26:27.058943Z"
    },
    "papermill": {
     "duration": 0.061474,
     "end_time": "2022-08-26T03:26:27.063359",
     "exception": false,
     "start_time": "2022-08-26T03:26:27.001885",
     "status": "completed"
    },
    "tags": []
   },
   "outputs": [
    {
     "name": "stdout",
     "output_type": "stream",
     "text": [
      "Setup complete.\n"
     ]
    }
   ],
   "source": [
    "# SETUP. You don't need to worry for now about what this code does or how it works.\n",
    "from learntools.core import binder; binder.bind(globals())\n",
    "from learntools.python.ex2 import *\n",
    "print('Setup complete.')"
   ]
  },
  {
   "cell_type": "markdown",
   "id": "f201803d",
   "metadata": {
    "papermill": {
     "duration": 0.004698,
     "end_time": "2022-08-26T03:26:27.073719",
     "exception": false,
     "start_time": "2022-08-26T03:26:27.069021",
     "status": "completed"
    },
    "tags": []
   },
   "source": [
    "# 1.\n",
    "\n",
    "Complete the body of the following function according to its docstring.\n",
    "\n",
    "HINT: Python has a built-in function `round`."
   ]
  },
  {
   "cell_type": "code",
   "execution_count": 2,
   "id": "4354481a",
   "metadata": {
    "execution": {
     "iopub.execute_input": "2022-08-26T03:26:27.085501Z",
     "iopub.status.busy": "2022-08-26T03:26:27.085002Z",
     "iopub.status.idle": "2022-08-26T03:26:27.096962Z",
     "shell.execute_reply": "2022-08-26T03:26:27.095787Z"
    },
    "papermill": {
     "duration": 0.020644,
     "end_time": "2022-08-26T03:26:27.099188",
     "exception": false,
     "start_time": "2022-08-26T03:26:27.078544",
     "status": "completed"
    },
    "tags": []
   },
   "outputs": [
    {
     "data": {
      "application/javascript": [
       "parent.postMessage({\"jupyterEvent\": \"custom.exercise_interaction\", \"data\": {\"outcomeType\": 1, \"valueTowardsCompletion\": 0.16666666666666666, \"interactionType\": 1, \"questionType\": 2, \"questionId\": \"1_RoundFunctionProblem\", \"learnToolsVersion\": \"0.3.4\", \"failureMessage\": \"\", \"exceptionClass\": \"\", \"trace\": \"\"}}, \"*\")"
      ],
      "text/plain": [
       "<IPython.core.display.Javascript object>"
      ]
     },
     "metadata": {},
     "output_type": "display_data"
    },
    {
     "data": {
      "text/markdown": [
       "<span style=\"color:#33cc33\">Correct</span>"
      ],
      "text/plain": [
       "Correct"
      ]
     },
     "metadata": {},
     "output_type": "display_data"
    }
   ],
   "source": [
    "def round_to_two_places(num):\n",
    "    \"\"\"Return the given number rounded to two decimal places. \n",
    "    \n",
    "    >>> round_to_two_places(3.14159)\n",
    "    3.14\n",
    "    \"\"\"\n",
    "    # Replace this body with your own code.\n",
    "    # (\"pass\" is a keyword that does literally nothing. We used it as a placeholder\n",
    "    # because after we begin a code block, Python requires at least one line of code)\n",
    "    return round(num, 2)\n",
    "\n",
    "# Check your answer\n",
    "q1.check()"
   ]
  },
  {
   "cell_type": "code",
   "execution_count": 3,
   "id": "eca089d5",
   "metadata": {
    "execution": {
     "iopub.execute_input": "2022-08-26T03:26:27.111841Z",
     "iopub.status.busy": "2022-08-26T03:26:27.111048Z",
     "iopub.status.idle": "2022-08-26T03:26:27.115309Z",
     "shell.execute_reply": "2022-08-26T03:26:27.114403Z"
    },
    "papermill": {
     "duration": 0.013977,
     "end_time": "2022-08-26T03:26:27.118366",
     "exception": false,
     "start_time": "2022-08-26T03:26:27.104389",
     "status": "completed"
    },
    "tags": []
   },
   "outputs": [],
   "source": [
    "# Uncomment the following for a hint\n",
    "#q1.hint()\n",
    "# Or uncomment the following to peek at the solution\n",
    "#q1.solution()"
   ]
  },
  {
   "cell_type": "markdown",
   "id": "e27764b7",
   "metadata": {
    "papermill": {
     "duration": 0.004958,
     "end_time": "2022-08-26T03:26:27.128740",
     "exception": false,
     "start_time": "2022-08-26T03:26:27.123782",
     "status": "completed"
    },
    "tags": []
   },
   "source": [
    "# 2.\n",
    "The help for `round` says that `ndigits` (the second argument) may be negative.\n",
    "What do you think will happen when it is? Try some examples in the following cell."
   ]
  },
  {
   "cell_type": "code",
   "execution_count": 4,
   "id": "018c2cb4",
   "metadata": {
    "execution": {
     "iopub.execute_input": "2022-08-26T03:26:27.140875Z",
     "iopub.status.busy": "2022-08-26T03:26:27.140444Z",
     "iopub.status.idle": "2022-08-26T03:26:27.147886Z",
     "shell.execute_reply": "2022-08-26T03:26:27.146674Z"
    },
    "papermill": {
     "duration": 0.016499,
     "end_time": "2022-08-26T03:26:27.150381",
     "exception": false,
     "start_time": "2022-08-26T03:26:27.133882",
     "status": "completed"
    },
    "tags": []
   },
   "outputs": [
    {
     "data": {
      "text/plain": [
       "12300.0"
      ]
     },
     "execution_count": 4,
     "metadata": {},
     "output_type": "execute_result"
    }
   ],
   "source": [
    "round(12345.12345,-2)"
   ]
  },
  {
   "cell_type": "markdown",
   "id": "9a2878ed",
   "metadata": {
    "papermill": {
     "duration": 0.006505,
     "end_time": "2022-08-26T03:26:27.162324",
     "exception": false,
     "start_time": "2022-08-26T03:26:27.155819",
     "status": "completed"
    },
    "tags": []
   },
   "source": [
    "Can you think of a case where this would be useful?  Once you're ready, run the code cell below to see the answer and to receive credit for completing the problem."
   ]
  },
  {
   "cell_type": "code",
   "execution_count": 5,
   "id": "9842d7e3",
   "metadata": {
    "execution": {
     "iopub.execute_input": "2022-08-26T03:26:27.178389Z",
     "iopub.status.busy": "2022-08-26T03:26:27.177772Z",
     "iopub.status.idle": "2022-08-26T03:26:27.189004Z",
     "shell.execute_reply": "2022-08-26T03:26:27.187699Z"
    },
    "papermill": {
     "duration": 0.023114,
     "end_time": "2022-08-26T03:26:27.192637",
     "exception": false,
     "start_time": "2022-08-26T03:26:27.169523",
     "status": "completed"
    },
    "tags": []
   },
   "outputs": [
    {
     "data": {
      "application/javascript": [
       "parent.postMessage({\"jupyterEvent\": \"custom.exercise_interaction\", \"data\": {\"interactionType\": 3, \"questionType\": 4, \"questionId\": \"2_RoundNdigitsProblem\", \"learnToolsVersion\": \"0.3.4\", \"valueTowardsCompletion\": 0.0, \"failureMessage\": \"\", \"exceptionClass\": \"\", \"trace\": \"\", \"outcomeType\": 4}}, \"*\")"
      ],
      "text/plain": [
       "<IPython.core.display.Javascript object>"
      ]
     },
     "metadata": {},
     "output_type": "display_data"
    },
    {
     "data": {
      "text/markdown": [
       "<span style=\"color:#33cc99\">Solution:</span> As you've seen, `ndigits=-1` rounds to the nearest 10, `ndigits=-2` rounds to the nearest 100 and so on. Where might this be useful? Suppose we're dealing with large numbers:\n",
       "\n",
       "> The area of Finland is 338,424 km²  \n",
       "> The area of Greenland is 2,166,086 km²\n",
       "\n",
       "We probably don't care whether it's really 338,424, or 338,425, or 338,177. All those digits of accuracy are just distracting. We can chop them off by calling `round()` with `ndigits=-3`:\n",
       "\n",
       "> The area of Finland is 338,000 km²  \n",
       "> The area of Greenland is 2,166,000 km²\n",
       "\n",
       "(We'll talk about how we would get the commas later when we talk about string formatting :))\n"
      ],
      "text/plain": [
       "Solution: As you've seen, `ndigits=-1` rounds to the nearest 10, `ndigits=-2` rounds to the nearest 100 and so on. Where might this be useful? Suppose we're dealing with large numbers:\n",
       "\n",
       "> The area of Finland is 338,424 km²  \n",
       "> The area of Greenland is 2,166,086 km²\n",
       "\n",
       "We probably don't care whether it's really 338,424, or 338,425, or 338,177. All those digits of accuracy are just distracting. We can chop them off by calling `round()` with `ndigits=-3`:\n",
       "\n",
       "> The area of Finland is 338,000 km²  \n",
       "> The area of Greenland is 2,166,000 km²\n",
       "\n",
       "(We'll talk about how we would get the commas later when we talk about string formatting :))"
      ]
     },
     "metadata": {},
     "output_type": "display_data"
    }
   ],
   "source": [
    "# Check your answer (Run this code cell to receive credit!)\n",
    "q2.solution()"
   ]
  },
  {
   "cell_type": "markdown",
   "id": "bc82bdcb",
   "metadata": {
    "papermill": {
     "duration": 0.00718,
     "end_time": "2022-08-26T03:26:27.206631",
     "exception": false,
     "start_time": "2022-08-26T03:26:27.199451",
     "status": "completed"
    },
    "tags": []
   },
   "source": [
    "# 3.\n",
    "\n",
    "In the previous exercise, the candy-sharing friends Alice, Bob and Carol tried to split candies evenly. For the sake of their friendship, any candies left over would be smashed. For example, if they collectively bring home 91 candies, they'll take 30 each and smash 1.\n",
    "\n",
    "Below is a simple function that will calculate the number of candies to smash for *any* number of total candies.\n",
    "\n",
    "Modify it so that it optionally takes a second argument representing the number of friends the candies are being split between. If no second argument is provided, it should assume 3 friends, as before.\n",
    "\n",
    "Update the docstring to reflect this new behaviour."
   ]
  },
  {
   "cell_type": "code",
   "execution_count": 6,
   "id": "4d18ec86",
   "metadata": {
    "execution": {
     "iopub.execute_input": "2022-08-26T03:26:27.224537Z",
     "iopub.status.busy": "2022-08-26T03:26:27.223641Z",
     "iopub.status.idle": "2022-08-26T03:26:27.234111Z",
     "shell.execute_reply": "2022-08-26T03:26:27.233199Z"
    },
    "papermill": {
     "duration": 0.022857,
     "end_time": "2022-08-26T03:26:27.236661",
     "exception": false,
     "start_time": "2022-08-26T03:26:27.213804",
     "status": "completed"
    },
    "tags": []
   },
   "outputs": [
    {
     "data": {
      "application/javascript": [
       "parent.postMessage({\"jupyterEvent\": \"custom.exercise_interaction\", \"data\": {\"outcomeType\": 1, \"valueTowardsCompletion\": 0.16666666666666666, \"interactionType\": 1, \"questionType\": 2, \"questionId\": \"3_CandySmashingFunctionProblem\", \"learnToolsVersion\": \"0.3.4\", \"failureMessage\": \"\", \"exceptionClass\": \"\", \"trace\": \"\"}}, \"*\")"
      ],
      "text/plain": [
       "<IPython.core.display.Javascript object>"
      ]
     },
     "metadata": {},
     "output_type": "display_data"
    },
    {
     "data": {
      "text/markdown": [
       "<span style=\"color:#33cc33\">Correct</span>"
      ],
      "text/plain": [
       "Correct"
      ]
     },
     "metadata": {},
     "output_type": "display_data"
    }
   ],
   "source": [
    "def to_smash(total_candies, friends=3):\n",
    "    \"\"\"Return the number of leftover candies that must be smashed after distributing\n",
    "    the given number of candies evenly between 3 friends.\n",
    "    \n",
    "    >>> to_smash(91)\n",
    "    1\n",
    "    \"\"\"\n",
    "    return total_candies % friends\n",
    "\n",
    "# Check your answer\n",
    "q3.check()"
   ]
  },
  {
   "cell_type": "code",
   "execution_count": 7,
   "id": "27c5e9e9",
   "metadata": {
    "execution": {
     "iopub.execute_input": "2022-08-26T03:26:27.250313Z",
     "iopub.status.busy": "2022-08-26T03:26:27.249822Z",
     "iopub.status.idle": "2022-08-26T03:26:27.255065Z",
     "shell.execute_reply": "2022-08-26T03:26:27.253710Z"
    },
    "papermill": {
     "duration": 0.014979,
     "end_time": "2022-08-26T03:26:27.257504",
     "exception": false,
     "start_time": "2022-08-26T03:26:27.242525",
     "status": "completed"
    },
    "tags": []
   },
   "outputs": [],
   "source": [
    "#q3.hint()"
   ]
  },
  {
   "cell_type": "code",
   "execution_count": 8,
   "id": "8d985f42",
   "metadata": {
    "execution": {
     "iopub.execute_input": "2022-08-26T03:26:27.272029Z",
     "iopub.status.busy": "2022-08-26T03:26:27.271140Z",
     "iopub.status.idle": "2022-08-26T03:26:27.276206Z",
     "shell.execute_reply": "2022-08-26T03:26:27.275339Z"
    },
    "papermill": {
     "duration": 0.015025,
     "end_time": "2022-08-26T03:26:27.278598",
     "exception": false,
     "start_time": "2022-08-26T03:26:27.263573",
     "status": "completed"
    },
    "tags": []
   },
   "outputs": [],
   "source": [
    "#q3.solution()"
   ]
  },
  {
   "cell_type": "markdown",
   "id": "9a5709c9",
   "metadata": {
    "papermill": {
     "duration": 0.005567,
     "end_time": "2022-08-26T03:26:27.290315",
     "exception": false,
     "start_time": "2022-08-26T03:26:27.284748",
     "status": "completed"
    },
    "tags": []
   },
   "source": [
    "# 4. (Optional)\n",
    "\n",
    "It may not be fun, but reading and understanding error messages will be an important part of your Python career.\n",
    "\n",
    "Each code cell below contains some commented buggy code. For each cell...\n",
    "\n",
    "1. Read the code and predict what you think will happen when it's run.\n",
    "2. Then uncomment the code and run it to see what happens. (**Tip**: In the kernel editor, you can highlight several lines and press `ctrl`+`/` to toggle commenting.)\n",
    "3. Fix the code (so that it accomplishes its intended purpose without throwing an exception)\n",
    "\n",
    "<!-- TODO: should this be autochecked? Delta is probably pretty small. -->"
   ]
  },
  {
   "cell_type": "code",
   "execution_count": 9,
   "id": "219f153c",
   "metadata": {
    "execution": {
     "iopub.execute_input": "2022-08-26T03:26:27.304917Z",
     "iopub.status.busy": "2022-08-26T03:26:27.304002Z",
     "iopub.status.idle": "2022-08-26T03:26:27.318789Z",
     "shell.execute_reply": "2022-08-26T03:26:27.317373Z"
    },
    "papermill": {
     "duration": 0.025959,
     "end_time": "2022-08-26T03:26:27.322408",
     "exception": false,
     "start_time": "2022-08-26T03:26:27.296449",
     "status": "completed"
    },
    "tags": []
   },
   "outputs": [
    {
     "data": {
      "text/plain": [
       "10.0"
      ]
     },
     "execution_count": 9,
     "metadata": {},
     "output_type": "execute_result"
    }
   ],
   "source": [
    "round_to_two_places(9.9999)"
   ]
  },
  {
   "cell_type": "code",
   "execution_count": 10,
   "id": "e78f60ba",
   "metadata": {
    "execution": {
     "iopub.execute_input": "2022-08-26T03:26:27.342163Z",
     "iopub.status.busy": "2022-08-26T03:26:27.341552Z",
     "iopub.status.idle": "2022-08-26T03:26:27.348326Z",
     "shell.execute_reply": "2022-08-26T03:26:27.347066Z"
    },
    "papermill": {
     "duration": 0.019669,
     "end_time": "2022-08-26T03:26:27.350666",
     "exception": false,
     "start_time": "2022-08-26T03:26:27.330997",
     "status": "completed"
    },
    "tags": []
   },
   "outputs": [],
   "source": [
    "x = -10\n",
    "y = 5\n",
    "# # Which of the two variables above has the smallest absolute value?\n",
    "smallest_abs = min(abs(x), abs(y))"
   ]
  },
  {
   "cell_type": "code",
   "execution_count": 11,
   "id": "d3cca1e0",
   "metadata": {
    "execution": {
     "iopub.execute_input": "2022-08-26T03:26:27.366907Z",
     "iopub.status.busy": "2022-08-26T03:26:27.365863Z",
     "iopub.status.idle": "2022-08-26T03:26:27.373619Z",
     "shell.execute_reply": "2022-08-26T03:26:27.372289Z"
    },
    "papermill": {
     "duration": 0.018349,
     "end_time": "2022-08-26T03:26:27.376228",
     "exception": false,
     "start_time": "2022-08-26T03:26:27.357879",
     "status": "completed"
    },
    "tags": []
   },
   "outputs": [
    {
     "name": "stdout",
     "output_type": "stream",
     "text": [
      "5\n"
     ]
    }
   ],
   "source": [
    "def f(x):\n",
    "    y = abs(x)\n",
    "    return y\n",
    "\n",
    "print(f(5))"
   ]
  },
  {
   "cell_type": "markdown",
   "id": "b2af18ab",
   "metadata": {
    "papermill": {
     "duration": 0.007798,
     "end_time": "2022-08-26T03:26:27.390712",
     "exception": false,
     "start_time": "2022-08-26T03:26:27.382914",
     "status": "completed"
    },
    "tags": []
   },
   "source": [
    "# Keep Going\n",
    "\n",
    "Nice job with the code. Next up, you'll learn about *conditionals*, which you'll need to **[write interesting programs](https://www.kaggle.com/colinmorris/booleans-and-conditionals)**. "
   ]
  },
  {
   "cell_type": "markdown",
   "id": "41421731",
   "metadata": {
    "papermill": {
     "duration": 0.005977,
     "end_time": "2022-08-26T03:26:27.403486",
     "exception": false,
     "start_time": "2022-08-26T03:26:27.397509",
     "status": "completed"
    },
    "tags": []
   },
   "source": [
    "---\n",
    "\n",
    "\n",
    "\n",
    "\n",
    "*Have questions or comments? Visit the [course discussion forum](https://www.kaggle.com/learn/python/discussion) to chat with other learners.*"
   ]
  }
 ],
 "metadata": {
  "kernelspec": {
   "display_name": "Python 3",
   "language": "python",
   "name": "python3"
  },
  "language_info": {
   "codemirror_mode": {
    "name": "ipython",
    "version": 3
   },
   "file_extension": ".py",
   "mimetype": "text/x-python",
   "name": "python",
   "nbconvert_exporter": "python",
   "pygments_lexer": "ipython3",
   "version": "3.7.12"
  },
  "papermill": {
   "default_parameters": {},
   "duration": 10.678182,
   "end_time": "2022-08-26T03:26:28.235911",
   "environment_variables": {},
   "exception": null,
   "input_path": "__notebook__.ipynb",
   "output_path": "__notebook__.ipynb",
   "parameters": {},
   "start_time": "2022-08-26T03:26:17.557729",
   "version": "2.3.4"
  }
 },
 "nbformat": 4,
 "nbformat_minor": 5
}
