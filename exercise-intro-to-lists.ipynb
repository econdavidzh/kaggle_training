{
 "cells": [
  {
   "cell_type": "markdown",
   "id": "efe02d02",
   "metadata": {
    "papermill": {
     "duration": 0.007326,
     "end_time": "2022-08-24T02:35:22.230709",
     "exception": false,
     "start_time": "2022-08-24T02:35:22.223383",
     "status": "completed"
    },
    "tags": []
   },
   "source": [
    "**This notebook is an exercise in the [Intro to Programming](https://www.kaggle.com/learn/intro-to-programming) course.  You can reference the tutorial at [this link](https://www.kaggle.com/alexisbcook/intro-to-lists).**\n",
    "\n",
    "---\n"
   ]
  },
  {
   "cell_type": "markdown",
   "id": "250ddc48",
   "metadata": {
    "papermill": {
     "duration": 0.005512,
     "end_time": "2022-08-24T02:35:22.242211",
     "exception": false,
     "start_time": "2022-08-24T02:35:22.236699",
     "status": "completed"
    },
    "tags": []
   },
   "source": [
    "In the tutorial, you learned how to define and modify Python lists.  In this exercise, you will use your new knowledge to solve several problems.\n",
    "\n",
    "# Set up the notebook\n",
    "\n",
    "Run the next code cell without changes to set up the notebook."
   ]
  },
  {
   "cell_type": "code",
   "execution_count": 1,
   "id": "3ffa88db",
   "metadata": {
    "execution": {
     "iopub.execute_input": "2022-08-24T02:35:22.255497Z",
     "iopub.status.busy": "2022-08-24T02:35:22.255048Z",
     "iopub.status.idle": "2022-08-24T02:35:22.301824Z",
     "shell.execute_reply": "2022-08-24T02:35:22.300729Z"
    },
    "papermill": {
     "duration": 0.05638,
     "end_time": "2022-08-24T02:35:22.304314",
     "exception": false,
     "start_time": "2022-08-24T02:35:22.247934",
     "status": "completed"
    },
    "tags": []
   },
   "outputs": [
    {
     "name": "stdout",
     "output_type": "stream",
     "text": [
      "Setup complete.\n"
     ]
    }
   ],
   "source": [
    "from learntools.core import binder\n",
    "binder.bind(globals())\n",
    "from learntools.intro_to_programming.ex5 import *\n",
    "print('Setup complete.')"
   ]
  },
  {
   "cell_type": "markdown",
   "id": "4139d26a",
   "metadata": {
    "papermill": {
     "duration": 0.005746,
     "end_time": "2022-08-24T02:35:22.316183",
     "exception": false,
     "start_time": "2022-08-24T02:35:22.310437",
     "status": "completed"
    },
    "tags": []
   },
   "source": [
    "# Question 1\n",
    "\n",
    "You own a restaurant with five food dishes, organized in the Python list `menu` below.  One day, you decide to:\n",
    "- remove bean soup (`'bean soup'`) from the menu, and\n",
    "- add roasted beet salad (`'roasted beet salad'`) to the menu.\n",
    "\n",
    "Implement this change to the list below.  While completing this task, \n",
    "- do not change the line that creates the `menu` list.  \n",
    "- your answer should use `.remove()` and `.append()`.  "
   ]
  },
  {
   "cell_type": "code",
   "execution_count": 2,
   "id": "5babf4b0",
   "metadata": {
    "execution": {
     "iopub.execute_input": "2022-08-24T02:35:22.329437Z",
     "iopub.status.busy": "2022-08-24T02:35:22.329104Z",
     "iopub.status.idle": "2022-08-24T02:35:22.341166Z",
     "shell.execute_reply": "2022-08-24T02:35:22.340007Z"
    },
    "papermill": {
     "duration": 0.021394,
     "end_time": "2022-08-24T02:35:22.343360",
     "exception": false,
     "start_time": "2022-08-24T02:35:22.321966",
     "status": "completed"
    },
    "tags": []
   },
   "outputs": [
    {
     "data": {
      "application/javascript": [
       "parent.postMessage({\"jupyterEvent\": \"custom.exercise_interaction\", \"data\": {\"outcomeType\": 1, \"valueTowardsCompletion\": 0.2, \"interactionType\": 1, \"questionType\": 2, \"questionId\": \"1_FoodMenu\", \"learnToolsVersion\": \"0.3.4\", \"failureMessage\": \"\", \"exceptionClass\": \"\", \"trace\": \"\"}}, \"*\")"
      ],
      "text/plain": [
       "<IPython.core.display.Javascript object>"
      ]
     },
     "metadata": {},
     "output_type": "display_data"
    },
    {
     "data": {
      "text/markdown": [
       "<span style=\"color:#33cc33\">Correct</span>"
      ],
      "text/plain": [
       "Correct"
      ]
     },
     "metadata": {},
     "output_type": "display_data"
    }
   ],
   "source": [
    "# Do not change: Initial menu for your restaurant\n",
    "menu = ['stewed meat with onions', 'bean soup', 'risotto with trout and shrimp',\n",
    "       'fish soup with cream and onion', 'gyro']\n",
    "\n",
    "# TODO: remove 'bean soup', and add 'roasted beet salad' to the end of the menu\n",
    "menu = [x for x in menu if x != 'bean soup']\n",
    "menu.append('roasted beet salad')\n",
    "\n",
    "# Do not change: Check your answer\n",
    "q1.check()"
   ]
  },
  {
   "cell_type": "code",
   "execution_count": 3,
   "id": "1709a02f",
   "metadata": {
    "execution": {
     "iopub.execute_input": "2022-08-24T02:35:22.357354Z",
     "iopub.status.busy": "2022-08-24T02:35:22.357038Z",
     "iopub.status.idle": "2022-08-24T02:35:22.361127Z",
     "shell.execute_reply": "2022-08-24T02:35:22.360019Z"
    },
    "papermill": {
     "duration": 0.01343,
     "end_time": "2022-08-24T02:35:22.363277",
     "exception": false,
     "start_time": "2022-08-24T02:35:22.349847",
     "status": "completed"
    },
    "tags": []
   },
   "outputs": [],
   "source": [
    "# Uncomment to see a hint\n",
    "#q1.hint()\n",
    "\n",
    "# Uncomment to see the solution\n",
    "#q1.solution()"
   ]
  },
  {
   "cell_type": "markdown",
   "id": "4ec722ec",
   "metadata": {
    "papermill": {
     "duration": 0.005824,
     "end_time": "2022-08-24T02:35:22.375139",
     "exception": false,
     "start_time": "2022-08-24T02:35:22.369315",
     "status": "completed"
    },
    "tags": []
   },
   "source": [
    "# Question 2\n",
    "\n",
    "The list `num_customers` contains the number of customers who came into your restaurant every day over the last month (which lasted thirty days).  Fill in values for each of the following:\n",
    "- `avg_first_seven` - average number of customers who visited in the first seven days\n",
    "- `avg_last_seven` - average number of customers who visited in the last seven days\n",
    "- `max_month` - number of customers on the day that got the most customers in the last month\n",
    "- `min_month` - number of customers on the day that got the least customers in the last month\n",
    "\n",
    "Answer this question by writing code.  For instance, if you have to find the minimum value in a list, use `min()` instead of scanning for the smallest value and directly filling in a number."
   ]
  },
  {
   "cell_type": "code",
   "execution_count": 4,
   "id": "c23b13d7",
   "metadata": {
    "execution": {
     "iopub.execute_input": "2022-08-24T02:35:22.388637Z",
     "iopub.status.busy": "2022-08-24T02:35:22.388315Z",
     "iopub.status.idle": "2022-08-24T02:35:22.397660Z",
     "shell.execute_reply": "2022-08-24T02:35:22.396958Z"
    },
    "papermill": {
     "duration": 0.018514,
     "end_time": "2022-08-24T02:35:22.399656",
     "exception": false,
     "start_time": "2022-08-24T02:35:22.381142",
     "status": "completed"
    },
    "tags": []
   },
   "outputs": [
    {
     "data": {
      "application/javascript": [
       "parent.postMessage({\"jupyterEvent\": \"custom.exercise_interaction\", \"data\": {\"outcomeType\": 1, \"valueTowardsCompletion\": 0.2, \"interactionType\": 1, \"questionType\": 1, \"questionId\": \"2_NumCustomers\", \"learnToolsVersion\": \"0.3.4\", \"failureMessage\": \"\", \"exceptionClass\": \"\", \"trace\": \"\"}}, \"*\")"
      ],
      "text/plain": [
       "<IPython.core.display.Javascript object>"
      ]
     },
     "metadata": {},
     "output_type": "display_data"
    },
    {
     "data": {
      "text/markdown": [
       "<span style=\"color:#33cc33\">Correct</span>"
      ],
      "text/plain": [
       "Correct"
      ]
     },
     "metadata": {},
     "output_type": "display_data"
    }
   ],
   "source": [
    "# Do not change: Number of customers each day for the last month\n",
    "num_customers = [137, 147, 135, 128, 170, 174, 165, 146, 126, 159,\n",
    "                 141, 148, 132, 147, 168, 153, 170, 161, 148, 152,\n",
    "                 141, 151, 131, 149, 164, 163, 143, 143, 166, 171]\n",
    "\n",
    "# TODO: Fill in values for the variables below\n",
    "avg_first_seven = sum(num_customers[:7]) / 7\n",
    "avg_last_seven = sum(num_customers[-7:]) / 7 \n",
    "max_month = max(num_customers)\n",
    "min_month = min(num_customers)\n",
    "\n",
    "# Do not change: Check your answer\n",
    "q2.check()"
   ]
  },
  {
   "cell_type": "code",
   "execution_count": 5,
   "id": "227a337d",
   "metadata": {
    "execution": {
     "iopub.execute_input": "2022-08-24T02:35:22.413754Z",
     "iopub.status.busy": "2022-08-24T02:35:22.413459Z",
     "iopub.status.idle": "2022-08-24T02:35:22.417440Z",
     "shell.execute_reply": "2022-08-24T02:35:22.416292Z"
    },
    "papermill": {
     "duration": 0.0135,
     "end_time": "2022-08-24T02:35:22.419533",
     "exception": false,
     "start_time": "2022-08-24T02:35:22.406033",
     "status": "completed"
    },
    "tags": []
   },
   "outputs": [],
   "source": [
    "# Uncomment to see a hint\n",
    "#q2.hint()\n",
    "\n",
    "# Uncomment to see the solution\n",
    "#q2.solution()"
   ]
  },
  {
   "cell_type": "markdown",
   "id": "0c8103f8",
   "metadata": {
    "papermill": {
     "duration": 0.006079,
     "end_time": "2022-08-24T02:35:22.432000",
     "exception": false,
     "start_time": "2022-08-24T02:35:22.425921",
     "status": "completed"
    },
    "tags": []
   },
   "source": [
    "# Question 3\n",
    "\n",
    "In the tutorial, we gave an example of a Python string with information that was better as a list."
   ]
  },
  {
   "cell_type": "code",
   "execution_count": 6,
   "id": "35f7d686",
   "metadata": {
    "execution": {
     "iopub.execute_input": "2022-08-24T02:35:22.445924Z",
     "iopub.status.busy": "2022-08-24T02:35:22.445570Z",
     "iopub.status.idle": "2022-08-24T02:35:22.450350Z",
     "shell.execute_reply": "2022-08-24T02:35:22.449333Z"
    },
    "papermill": {
     "duration": 0.014156,
     "end_time": "2022-08-24T02:35:22.452450",
     "exception": false,
     "start_time": "2022-08-24T02:35:22.438294",
     "status": "completed"
    },
    "tags": []
   },
   "outputs": [],
   "source": [
    "flowers = \"pink primrose,hard-leaved pocket orchid,canterbury bells,sweet pea,english marigold,tiger lily,moon orchid,bird of paradise,monkshood,globe thistle\""
   ]
  },
  {
   "cell_type": "markdown",
   "id": "d39d06fe",
   "metadata": {
    "papermill": {
     "duration": 0.006126,
     "end_time": "2022-08-24T02:35:22.464981",
     "exception": false,
     "start_time": "2022-08-24T02:35:22.458855",
     "status": "completed"
    },
    "tags": []
   },
   "source": [
    "You can actually use Python to quickly turn this string into a list with `.split()`.  In the parentheses, we need to provide the character should be used to mark the end of one list item and the beginning of another, and enclose it in quotation marks.  In this case, that character is a comma."
   ]
  },
  {
   "cell_type": "code",
   "execution_count": 7,
   "id": "f088e5d0",
   "metadata": {
    "execution": {
     "iopub.execute_input": "2022-08-24T02:35:22.479003Z",
     "iopub.status.busy": "2022-08-24T02:35:22.478679Z",
     "iopub.status.idle": "2022-08-24T02:35:22.483915Z",
     "shell.execute_reply": "2022-08-24T02:35:22.482835Z"
    },
    "papermill": {
     "duration": 0.01516,
     "end_time": "2022-08-24T02:35:22.486405",
     "exception": false,
     "start_time": "2022-08-24T02:35:22.471245",
     "status": "completed"
    },
    "tags": []
   },
   "outputs": [
    {
     "name": "stdout",
     "output_type": "stream",
     "text": [
      "['pink primrose', 'hard-leaved pocket orchid', 'canterbury bells', 'sweet pea', 'english marigold', 'tiger lily', 'moon orchid', 'bird of paradise', 'monkshood', 'globe thistle']\n"
     ]
    }
   ],
   "source": [
    " print(flowers.split(\",\"))"
   ]
  },
  {
   "cell_type": "markdown",
   "id": "d491a451",
   "metadata": {
    "papermill": {
     "duration": 0.006203,
     "end_time": "2022-08-24T02:35:22.500468",
     "exception": false,
     "start_time": "2022-08-24T02:35:22.494265",
     "status": "completed"
    },
    "tags": []
   },
   "source": [
    "Now it is your turn to try this out!  Create two Python lists:\n",
    "- `letters` should be a Python list where each entry is an uppercase letter of the English alphabet.  For instance, the first two entries should be `\"A\"` and `\"B\"`, and the final two entries should be `\"Y\"` and `\"Z\"`.  Use the string `alphabet` to create this list.\n",
    "- `address` should be a Python list where each row in `address` is a different item in the list.  Currently, each row in `address` is separated by a comma. "
   ]
  },
  {
   "cell_type": "code",
   "execution_count": 8,
   "id": "f67ed6ae",
   "metadata": {
    "execution": {
     "iopub.execute_input": "2022-08-24T02:35:22.514484Z",
     "iopub.status.busy": "2022-08-24T02:35:22.514192Z",
     "iopub.status.idle": "2022-08-24T02:35:22.522826Z",
     "shell.execute_reply": "2022-08-24T02:35:22.521727Z"
    },
    "papermill": {
     "duration": 0.018119,
     "end_time": "2022-08-24T02:35:22.524868",
     "exception": false,
     "start_time": "2022-08-24T02:35:22.506749",
     "status": "completed"
    },
    "tags": []
   },
   "outputs": [
    {
     "data": {
      "application/javascript": [
       "parent.postMessage({\"jupyterEvent\": \"custom.exercise_interaction\", \"data\": {\"outcomeType\": 1, \"valueTowardsCompletion\": 0.2, \"interactionType\": 1, \"questionType\": 1, \"questionId\": \"3_SplitString\", \"learnToolsVersion\": \"0.3.4\", \"failureMessage\": \"\", \"exceptionClass\": \"\", \"trace\": \"\"}}, \"*\")"
      ],
      "text/plain": [
       "<IPython.core.display.Javascript object>"
      ]
     },
     "metadata": {},
     "output_type": "display_data"
    },
    {
     "data": {
      "text/markdown": [
       "<span style=\"color:#33cc33\">Correct</span>"
      ],
      "text/plain": [
       "Correct"
      ]
     },
     "metadata": {},
     "output_type": "display_data"
    }
   ],
   "source": [
    "# DO not change: Define two Python strings\n",
    "alphabet = \"A.B.C.D.E.F.G.H.I.J.K.L.M.N.O.P.Q.R.S.T.U.V.W.X.Y.Z\"\n",
    "address = \"Mr. H. Potter,The cupboard under the Stairs,4 Privet Drive,Little Whinging,Surrey\"\n",
    "\n",
    "# TODO: Convert strings into Python lists\n",
    "letters = alphabet.split('.')\n",
    "formatted_address = address.split(',')\n",
    "\n",
    "# Do not change: Check your answer\n",
    "q3.check()"
   ]
  },
  {
   "cell_type": "code",
   "execution_count": 9,
   "id": "b3f566a8",
   "metadata": {
    "execution": {
     "iopub.execute_input": "2022-08-24T02:35:22.539433Z",
     "iopub.status.busy": "2022-08-24T02:35:22.539148Z",
     "iopub.status.idle": "2022-08-24T02:35:22.542946Z",
     "shell.execute_reply": "2022-08-24T02:35:22.541834Z"
    },
    "papermill": {
     "duration": 0.013463,
     "end_time": "2022-08-24T02:35:22.544947",
     "exception": false,
     "start_time": "2022-08-24T02:35:22.531484",
     "status": "completed"
    },
    "tags": []
   },
   "outputs": [],
   "source": [
    "# Uncomment to see a hint\n",
    "#q3.hint()\n",
    "\n",
    "# Uncomment to see the solution\n",
    "#q3.solution()"
   ]
  },
  {
   "cell_type": "markdown",
   "id": "ef275fbb",
   "metadata": {
    "papermill": {
     "duration": 0.006406,
     "end_time": "2022-08-24T02:35:22.557894",
     "exception": false,
     "start_time": "2022-08-24T02:35:22.551488",
     "status": "completed"
    },
    "tags": []
   },
   "source": [
    "# Question 4\n",
    "\n",
    "In the Python course, you'll learn all about **list comprehensions**, which allow you to create a list based on the values in another list.  In this question, you'll get a brief preview of how they work.\n",
    "\n",
    "Say we're working with the list below."
   ]
  },
  {
   "cell_type": "code",
   "execution_count": 10,
   "id": "782d8116",
   "metadata": {
    "execution": {
     "iopub.execute_input": "2022-08-24T02:35:22.572674Z",
     "iopub.status.busy": "2022-08-24T02:35:22.572343Z",
     "iopub.status.idle": "2022-08-24T02:35:22.576659Z",
     "shell.execute_reply": "2022-08-24T02:35:22.575612Z"
    },
    "papermill": {
     "duration": 0.014107,
     "end_time": "2022-08-24T02:35:22.578664",
     "exception": false,
     "start_time": "2022-08-24T02:35:22.564557",
     "status": "completed"
    },
    "tags": []
   },
   "outputs": [],
   "source": [
    "test_ratings = [1, 2, 3, 4, 5]"
   ]
  },
  {
   "cell_type": "markdown",
   "id": "b871c98b",
   "metadata": {
    "papermill": {
     "duration": 0.006308,
     "end_time": "2022-08-24T02:35:22.591540",
     "exception": false,
     "start_time": "2022-08-24T02:35:22.585232",
     "status": "completed"
    },
    "tags": []
   },
   "source": [
    "Then we can use this list (`test_ratings`) to create a new list (`test_liked`) where each item has been turned into a boolean, depending on whether or not the item is greater than or equal to four."
   ]
  },
  {
   "cell_type": "code",
   "execution_count": 11,
   "id": "ce36680a",
   "metadata": {
    "execution": {
     "iopub.execute_input": "2022-08-24T02:35:22.606271Z",
     "iopub.status.busy": "2022-08-24T02:35:22.605981Z",
     "iopub.status.idle": "2022-08-24T02:35:22.610690Z",
     "shell.execute_reply": "2022-08-24T02:35:22.609747Z"
    },
    "papermill": {
     "duration": 0.014734,
     "end_time": "2022-08-24T02:35:22.612974",
     "exception": false,
     "start_time": "2022-08-24T02:35:22.598240",
     "status": "completed"
    },
    "tags": []
   },
   "outputs": [
    {
     "name": "stdout",
     "output_type": "stream",
     "text": [
      "[False, False, False, True, True]\n"
     ]
    }
   ],
   "source": [
    "test_liked = [i>=4 for i in test_ratings]\n",
    "print(test_liked)"
   ]
  },
  {
   "cell_type": "markdown",
   "id": "2a9522a0",
   "metadata": {
    "papermill": {
     "duration": 0.006411,
     "end_time": "2022-08-24T02:35:22.626063",
     "exception": false,
     "start_time": "2022-08-24T02:35:22.619652",
     "status": "completed"
    },
    "tags": []
   },
   "source": [
    "In this question, you'll use this list comprehension to define a function `percentage_liked()` that takes one argument as input:\n",
    "- `ratings`: list of ratings that people gave to a movie, where each rating is a number between 1-5, inclusive\n",
    "\n",
    "We say someone liked the movie, if they gave a rating of either 4 or 5.  Your function should return the percentage of people who liked the movie.\n",
    "\n",
    "For instance, if we supply a value of `[1, 2, 3, 4, 5, 4, 5, 1]`, then 50% (4/8) of the people liked the movie, and the function should return `0.5`.\n",
    "\n",
    "Part of the function has already been completed for you.  You need only use `list_liked` to calculate `percentage_liked`."
   ]
  },
  {
   "cell_type": "code",
   "execution_count": 12,
   "id": "c974559b",
   "metadata": {
    "execution": {
     "iopub.execute_input": "2022-08-24T02:35:22.641920Z",
     "iopub.status.busy": "2022-08-24T02:35:22.641388Z",
     "iopub.status.idle": "2022-08-24T02:35:22.650794Z",
     "shell.execute_reply": "2022-08-24T02:35:22.650054Z"
    },
    "papermill": {
     "duration": 0.019188,
     "end_time": "2022-08-24T02:35:22.652668",
     "exception": false,
     "start_time": "2022-08-24T02:35:22.633480",
     "status": "completed"
    },
    "tags": []
   },
   "outputs": [
    {
     "data": {
      "application/javascript": [
       "parent.postMessage({\"jupyterEvent\": \"custom.exercise_interaction\", \"data\": {\"outcomeType\": 1, \"valueTowardsCompletion\": 0.2, \"interactionType\": 1, \"questionType\": 2, \"questionId\": \"4_PercentageLiked\", \"learnToolsVersion\": \"0.3.4\", \"failureMessage\": \"\", \"exceptionClass\": \"\", \"trace\": \"\"}}, \"*\")"
      ],
      "text/plain": [
       "<IPython.core.display.Javascript object>"
      ]
     },
     "metadata": {},
     "output_type": "display_data"
    },
    {
     "data": {
      "text/markdown": [
       "<span style=\"color:#33cc33\">Correct</span>"
      ],
      "text/plain": [
       "Correct"
      ]
     },
     "metadata": {},
     "output_type": "display_data"
    }
   ],
   "source": [
    "\n",
    "def percentage_liked(ratings):\n",
    "    list_liked = [i for i in ratings if i > 3]\n",
    "    # TODO: Complete the function\n",
    "    percentage_liked = len(list_liked) / len(ratings)\n",
    "    return percentage_liked\n",
    "\n",
    "# Do not change: should return 0.5\n",
    "percentage_liked([1, 2, 3, 4, 5, 4, 5, 1])\n",
    "\n",
    "# Do not change: Check your answer\n",
    "q4.check()"
   ]
  },
  {
   "cell_type": "code",
   "execution_count": 13,
   "id": "b13b10ee",
   "metadata": {
    "execution": {
     "iopub.execute_input": "2022-08-24T02:35:22.668215Z",
     "iopub.status.busy": "2022-08-24T02:35:22.667602Z",
     "iopub.status.idle": "2022-08-24T02:35:22.671158Z",
     "shell.execute_reply": "2022-08-24T02:35:22.670416Z"
    },
    "papermill": {
     "duration": 0.013454,
     "end_time": "2022-08-24T02:35:22.673033",
     "exception": false,
     "start_time": "2022-08-24T02:35:22.659579",
     "status": "completed"
    },
    "tags": []
   },
   "outputs": [],
   "source": [
    "# Uncomment to see a hint\n",
    "#q4.hint()\n",
    "\n",
    "# Uncomment to see the solution\n",
    "#q4.solution()"
   ]
  },
  {
   "cell_type": "markdown",
   "id": "661b66e8",
   "metadata": {
    "papermill": {
     "duration": 0.006713,
     "end_time": "2022-08-24T02:35:22.686838",
     "exception": false,
     "start_time": "2022-08-24T02:35:22.680125",
     "status": "completed"
    },
    "tags": []
   },
   "source": [
    "# 🌶️ Question 5\n",
    " \n",
    "Say you're doing analytics for a website.  You need to write a function that returns the percentage growth in the total number of users relative to a specified number of years ago.\n",
    "\n",
    "Your function `percentage_growth()` should take two arguments as input:\n",
    "- `num_users` = Python list with the total number of users each year.  So `num_users[0]` is the total number of users in the first year, `num_users[1]` is the total number of users in the second year, and so on.  The final entry in the list gives the total number of users in the most recently completed year.\n",
    "- `yrs_ago` = number of years to go back in time when calculating the growth percentage\n",
    "\n",
    "For instance, say `num_users = [920344, 1043553, 1204334, 1458996, 1503323, 1593432, 1623463, 1843064, 1930992, 2001078]`.\n",
    "- if `yrs_ago = 1`, we want the function to return a value of about `0.036`. This corresponds to a percentage growth of approximately 3.6%, calculated as (2001078 - 1930992)/1930992.\n",
    "- if `years_ago = 7`, we would want to return approximately `0.66`.  This corresponds to a percentage growth of approximately 66%, calculated as (2001078 - 1204334)/1204334.\n",
    "\n",
    "Your coworker sent you a draft of a function, but it doesn't seem to be doing the correct calculation.  Can you figure out what has gone wrong and make the needed changes?"
   ]
  },
  {
   "cell_type": "code",
   "execution_count": 14,
   "id": "e7e5d871",
   "metadata": {
    "execution": {
     "iopub.execute_input": "2022-08-24T02:35:22.702352Z",
     "iopub.status.busy": "2022-08-24T02:35:22.701745Z",
     "iopub.status.idle": "2022-08-24T02:35:22.712596Z",
     "shell.execute_reply": "2022-08-24T02:35:22.711599Z"
    },
    "papermill": {
     "duration": 0.021063,
     "end_time": "2022-08-24T02:35:22.714812",
     "exception": false,
     "start_time": "2022-08-24T02:35:22.693749",
     "status": "completed"
    },
    "tags": []
   },
   "outputs": [
    {
     "name": "stdout",
     "output_type": "stream",
     "text": [
      "0.03629533421163837\n",
      "0.6615639847417742\n"
     ]
    },
    {
     "data": {
      "application/javascript": [
       "parent.postMessage({\"jupyterEvent\": \"custom.exercise_interaction\", \"data\": {\"outcomeType\": 1, \"valueTowardsCompletion\": 0.2, \"interactionType\": 1, \"questionType\": 2, \"questionId\": \"5_WebsiteAnalytics\", \"learnToolsVersion\": \"0.3.4\", \"failureMessage\": \"\", \"exceptionClass\": \"\", \"trace\": \"\"}}, \"*\")"
      ],
      "text/plain": [
       "<IPython.core.display.Javascript object>"
      ]
     },
     "metadata": {},
     "output_type": "display_data"
    },
    {
     "data": {
      "text/markdown": [
       "<span style=\"color:#33cc33\">Correct</span>"
      ],
      "text/plain": [
       "Correct"
      ]
     },
     "metadata": {},
     "output_type": "display_data"
    }
   ],
   "source": [
    "# TODO: Edit the function\n",
    "def percentage_growth(num_users, yrs_ago):\n",
    "    growth = (num_users[-1] - num_users[-(yrs_ago + 1)]) / num_users[-(yrs_ago + 1)]\n",
    "    return growth\n",
    "\n",
    "# Do not change: Variable for calculating some test examples\n",
    "num_users_test = [920344, 1043553, 1204334, 1458996, 1503323, 1593432, 1623463, 1843064, 1930992, 2001078]\n",
    "\n",
    "# Do not change: Should return .036\n",
    "print(percentage_growth(num_users_test, 1))\n",
    "\n",
    "# Do not change: Should return 0.66\n",
    "print(percentage_growth(num_users_test, 7))\n",
    "\n",
    "# Do not change: Check your answer\n",
    "q5.check()"
   ]
  },
  {
   "cell_type": "code",
   "execution_count": 15,
   "id": "9f7916ce",
   "metadata": {
    "execution": {
     "iopub.execute_input": "2022-08-24T02:35:22.731249Z",
     "iopub.status.busy": "2022-08-24T02:35:22.730629Z",
     "iopub.status.idle": "2022-08-24T02:35:22.734342Z",
     "shell.execute_reply": "2022-08-24T02:35:22.733592Z"
    },
    "papermill": {
     "duration": 0.014009,
     "end_time": "2022-08-24T02:35:22.736269",
     "exception": false,
     "start_time": "2022-08-24T02:35:22.722260",
     "status": "completed"
    },
    "tags": []
   },
   "outputs": [],
   "source": [
    "# Uncomment to see a hint\n",
    "#q5.hint()\n",
    "\n",
    "# Uncomment to see the solution\n",
    "#q5.solution()"
   ]
  },
  {
   "cell_type": "markdown",
   "id": "527ee2ba",
   "metadata": {
    "papermill": {
     "duration": 0.007012,
     "end_time": "2022-08-24T02:35:22.750556",
     "exception": false,
     "start_time": "2022-08-24T02:35:22.743544",
     "status": "completed"
    },
    "tags": []
   },
   "source": [
    "# Congratulations!\n",
    "\n",
    "Congratulations for finishing the Intro to Programming course!  You should be proud of your very first steps with learning programming.  As next steps, we recommend taking:\n",
    "- the **[Python course](http://www.kaggle.com/learn/python)**, and \n",
    "- the **[Intro to Machine Learning course](https://www.kaggle.com/learn/intro-to-machine-learning)**."
   ]
  },
  {
   "cell_type": "markdown",
   "id": "f5b187f1",
   "metadata": {
    "papermill": {
     "duration": 0.007004,
     "end_time": "2022-08-24T02:35:22.764897",
     "exception": false,
     "start_time": "2022-08-24T02:35:22.757893",
     "status": "completed"
    },
    "tags": []
   },
   "source": [
    "---\n",
    "\n",
    "\n",
    "\n",
    "\n",
    "*Have questions or comments? Visit the [course discussion forum](https://www.kaggle.com/learn/intro-to-programming/discussion) to chat with other learners.*"
   ]
  }
 ],
 "metadata": {
  "kernelspec": {
   "display_name": "Python 3",
   "language": "python",
   "name": "python3"
  },
  "language_info": {
   "codemirror_mode": {
    "name": "ipython",
    "version": 3
   },
   "file_extension": ".py",
   "mimetype": "text/x-python",
   "name": "python",
   "nbconvert_exporter": "python",
   "pygments_lexer": "ipython3",
   "version": "3.7.12"
  },
  "papermill": {
   "default_parameters": {},
   "duration": 9.414989,
   "end_time": "2022-08-24T02:35:23.290757",
   "environment_variables": {},
   "exception": null,
   "input_path": "__notebook__.ipynb",
   "output_path": "__notebook__.ipynb",
   "parameters": {},
   "start_time": "2022-08-24T02:35:13.875768",
   "version": "2.3.4"
  }
 },
 "nbformat": 4,
 "nbformat_minor": 5
}
